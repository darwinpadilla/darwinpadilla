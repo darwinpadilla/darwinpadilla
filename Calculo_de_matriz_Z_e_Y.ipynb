{
  "nbformat": 4,
  "nbformat_minor": 0,
  "metadata": {
    "colab": {
      "name": "Calculo de matriz Z e Y.ipynb",
      "provenance": [],
      "collapsed_sections": [],
      "authorship_tag": "ABX9TyP1AL/ofD5zngWFH7s7+Hmx",
      "include_colab_link": true
    },
    "kernelspec": {
      "name": "python3",
      "display_name": "Python 3"
    },
    "language_info": {
      "name": "python"
    }
  },
  "cells": [
    {
      "cell_type": "markdown",
      "metadata": {
        "id": "view-in-github",
        "colab_type": "text"
      },
      "source": [
        "<a href=\"https://colab.research.google.com/github/darwinpadilla/darwinpadilla/blob/main/Calculo_de_matriz_Z_e_Y.ipynb\" target=\"_parent\"><img src=\"https://colab.research.google.com/assets/colab-badge.svg\" alt=\"Open In Colab\"/></a>"
      ]
    },
    {
      "cell_type": "code",
      "metadata": {
        "id": "XwF2yYNhFPvO"
      },
      "source": [
        "from sympy import * \n",
        "import numpy as np\n",
        "import numba"
      ],
      "execution_count": 8,
      "outputs": []
    },
    {
      "cell_type": "markdown",
      "metadata": {
        "id": "BvYnReFTQoEz"
      },
      "source": [
        "# La malla de n barras tiene Z_ij impedancias"
      ]
    },
    {
      "cell_type": "code",
      "metadata": {
        "colab": {
          "base_uri": "https://localhost:8080/",
          "height": 37
        },
        "id": "PPPn1n2IQml2",
        "outputId": "e3cad191-c805-4f2c-edac-f16fc517899c"
      },
      "source": [
        "Z12 = complex(0.04,0.6)\n",
        "\n",
        "Y12 = conjugate(Z12)/(re(Z12)*re(Z12)+im(Z12)*im(Z12))\n",
        "y12 = -re(Y12)+im(Y12)*I\n",
        "y12"
      ],
      "execution_count": 9,
      "outputs": [
        {
          "output_type": "execute_result",
          "data": {
            "text/latex": "$\\displaystyle -0.110619469026549 - 1.65929203539823 i$",
            "text/plain": [
              "-0.110619469026549 - 1.65929203539823*I"
            ]
          },
          "metadata": {
            "tags": []
          },
          "execution_count": 9
        }
      ]
    },
    {
      "cell_type": "code",
      "metadata": {
        "colab": {
          "base_uri": "https://localhost:8080/"
        },
        "id": "WdTTSCXC8o3Y",
        "outputId": "40c62a0f-b903-49e6-9e7d-6e61d68bf802"
      },
      "source": [
        "print(Z12, Y12)"
      ],
      "execution_count": 10,
      "outputs": [
        {
          "output_type": "stream",
          "text": [
            "(0.04+0.6j) 0.110619469026549 - 1.65929203539823*I\n"
          ],
          "name": "stdout"
        }
      ]
    },
    {
      "cell_type": "code",
      "metadata": {
        "colab": {
          "base_uri": "https://localhost:8080/",
          "height": 37
        },
        "id": "iWzlA2wD2Q6Q",
        "outputId": "d0c30d84-1125-42a9-ed76-ebcdc6605e28"
      },
      "source": [
        "y21 = y12\n",
        "y21"
      ],
      "execution_count": 11,
      "outputs": [
        {
          "output_type": "execute_result",
          "data": {
            "text/latex": "$\\displaystyle -0.110619469026549 - 1.65929203539823 i$",
            "text/plain": [
              "-0.110619469026549 - 1.65929203539823*I"
            ]
          },
          "metadata": {
            "tags": []
          },
          "execution_count": 11
        }
      ]
    },
    {
      "cell_type": "code",
      "metadata": {
        "colab": {
          "base_uri": "https://localhost:8080/",
          "height": 37
        },
        "id": "a6Seoygjdija",
        "outputId": "c138de54-deb7-4488-f4da-431de1697902"
      },
      "source": [
        "Z13 = complex(0.08,0.52)\n",
        "\n",
        "Y13 = conjugate(Z13)/(re(Z13)*re(Z13)+im(Z13)*im(Z13))\n",
        "y13 = -re(Y13)+im(Y13)*I\n",
        "y13"
      ],
      "execution_count": 12,
      "outputs": [
        {
          "output_type": "execute_result",
          "data": {
            "text/latex": "$\\displaystyle -0.289017341040462 - 1.87861271676301 i$",
            "text/plain": [
              "-0.289017341040462 - 1.87861271676301*I"
            ]
          },
          "metadata": {
            "tags": []
          },
          "execution_count": 12
        }
      ]
    },
    {
      "cell_type": "code",
      "metadata": {
        "colab": {
          "base_uri": "https://localhost:8080/",
          "height": 37
        },
        "id": "-n_9yGxI2XYY",
        "outputId": "f7357b05-e3c0-4ec5-eba3-1293fe9b802f"
      },
      "source": [
        "y31 = y13\n",
        "y31"
      ],
      "execution_count": 13,
      "outputs": [
        {
          "output_type": "execute_result",
          "data": {
            "text/latex": "$\\displaystyle -0.289017341040462 - 1.87861271676301 i$",
            "text/plain": [
              "-0.289017341040462 - 1.87861271676301*I"
            ]
          },
          "metadata": {
            "tags": []
          },
          "execution_count": 13
        }
      ]
    },
    {
      "cell_type": "code",
      "metadata": {
        "colab": {
          "base_uri": "https://localhost:8080/",
          "height": 37
        },
        "id": "Kuy_4o0pyYPK",
        "outputId": "9e5f9753-1541-4ce9-9bbb-35c7f6c0ff45"
      },
      "source": [
        "Z14 = complex(0.06,0.8)\n",
        "\n",
        "Y14 = conjugate(Z14)/(re(Z14)*re(Z14)+im(Z14)*im(Z14))\n",
        "y14 = -re(Y14)+im(Y14)*I\n",
        "y14"
      ],
      "execution_count": 14,
      "outputs": [
        {
          "output_type": "execute_result",
          "data": {
            "text/latex": "$\\displaystyle -0.0932256059664388 - 1.24300807955252 i$",
            "text/plain": [
              "-0.0932256059664388 - 1.24300807955252*I"
            ]
          },
          "metadata": {
            "tags": []
          },
          "execution_count": 14
        }
      ]
    },
    {
      "cell_type": "code",
      "metadata": {
        "colab": {
          "base_uri": "https://localhost:8080/",
          "height": 37
        },
        "id": "M6H8G1qG2a4n",
        "outputId": "d1a0d466-0b8c-4249-ce63-11a1f5fd067d"
      },
      "source": [
        "y41 = y14\n",
        "y41"
      ],
      "execution_count": 15,
      "outputs": [
        {
          "output_type": "execute_result",
          "data": {
            "text/latex": "$\\displaystyle -0.0932256059664388 - 1.24300807955252 i$",
            "text/plain": [
              "-0.0932256059664388 - 1.24300807955252*I"
            ]
          },
          "metadata": {
            "tags": []
          },
          "execution_count": 15
        }
      ]
    },
    {
      "cell_type": "code",
      "metadata": {
        "colab": {
          "base_uri": "https://localhost:8080/",
          "height": 37
        },
        "id": "sIyME_qFyfzl",
        "outputId": "15625a24-76ce-49bc-c423-392bec40007d"
      },
      "source": [
        "Z23 = complex(0.02,0.4)\n",
        "\n",
        "Y23 = conjugate(Z23)/(re(Z23)*re(Z23)+im(Z23)*im(Z23))\n",
        "y23 = -re(Y23)+im(Y23)*I\n",
        "y23"
      ],
      "execution_count": 16,
      "outputs": [
        {
          "output_type": "execute_result",
          "data": {
            "text/latex": "$\\displaystyle -0.124688279301746 - 2.49376558603491 i$",
            "text/plain": [
              "-0.124688279301746 - 2.49376558603491*I"
            ]
          },
          "metadata": {
            "tags": []
          },
          "execution_count": 16
        }
      ]
    },
    {
      "cell_type": "code",
      "metadata": {
        "colab": {
          "base_uri": "https://localhost:8080/",
          "height": 37
        },
        "id": "zb_Vo4t42iYS",
        "outputId": "a6b854e4-8d9f-4541-a600-efb4fee1bb1a"
      },
      "source": [
        "y32 = y23\n",
        "y32"
      ],
      "execution_count": 17,
      "outputs": [
        {
          "output_type": "execute_result",
          "data": {
            "text/latex": "$\\displaystyle -0.124688279301746 - 2.49376558603491 i$",
            "text/plain": [
              "-0.124688279301746 - 2.49376558603491*I"
            ]
          },
          "metadata": {
            "tags": []
          },
          "execution_count": 17
        }
      ]
    },
    {
      "cell_type": "code",
      "metadata": {
        "colab": {
          "base_uri": "https://localhost:8080/",
          "height": 37
        },
        "id": "8wUWXCxjypAD",
        "outputId": "9ff353e0-22ae-40c9-c47d-757a529d092b"
      },
      "source": [
        "Z34 = complex(0.07,0.6)\n",
        "\n",
        "Y34 = conjugate(Z34)/(re(Z34)*re(Z34)+im(Z34)*im(Z34))\n",
        "y34 = -re(Y34)+im(Y34)*I\n",
        "y34"
      ],
      "execution_count": 18,
      "outputs": [
        {
          "output_type": "execute_result",
          "data": {
            "text/latex": "$\\displaystyle -0.191833379007947 - 1.64428610578241 i$",
            "text/plain": [
              "-0.191833379007947 - 1.64428610578241*I"
            ]
          },
          "metadata": {
            "tags": []
          },
          "execution_count": 18
        }
      ]
    },
    {
      "cell_type": "code",
      "metadata": {
        "colab": {
          "base_uri": "https://localhost:8080/",
          "height": 37
        },
        "id": "T-l1cQcZ2nVp",
        "outputId": "7eaf8acc-03bd-49f0-b456-ea9347f7a505"
      },
      "source": [
        "y43 = y34\n",
        "y43"
      ],
      "execution_count": 19,
      "outputs": [
        {
          "output_type": "execute_result",
          "data": {
            "text/latex": "$\\displaystyle -0.191833379007947 - 1.64428610578241 i$",
            "text/plain": [
              "-0.191833379007947 - 1.64428610578241*I"
            ]
          },
          "metadata": {
            "tags": []
          },
          "execution_count": 19
        }
      ]
    },
    {
      "cell_type": "markdown",
      "metadata": {
        "id": "sDfSRw0mzyb9"
      },
      "source": [
        "# Verficamos las Y que no van de una barra \"i\" a una \"j\" y le asignamos valor 0"
      ]
    },
    {
      "cell_type": "code",
      "metadata": {
        "id": "IN9zkParz4jI"
      },
      "source": [
        "y24= 0"
      ],
      "execution_count": 20,
      "outputs": []
    },
    {
      "cell_type": "code",
      "metadata": {
        "id": "StFDBQtr2tHE"
      },
      "source": [
        "y42= 0"
      ],
      "execution_count": 21,
      "outputs": []
    },
    {
      "cell_type": "markdown",
      "metadata": {
        "id": "0HWpmFNg3KyA"
      },
      "source": [
        "# Verifiquemos que no se tengan reactores, motores o condensadores unidos a la barra "
      ]
    },
    {
      "cell_type": "code",
      "metadata": {
        "id": "14DFa2J83WYh"
      },
      "source": [
        "# si existen se deben declarar y sumar a la barra que corresponde"
      ],
      "execution_count": 22,
      "outputs": []
    },
    {
      "cell_type": "code",
      "metadata": {
        "colab": {
          "base_uri": "https://localhost:8080/",
          "height": 37
        },
        "id": "OGfPhXLB96_d",
        "outputId": "99f93de3-996d-4458-ac2d-98fae76a0304"
      },
      "source": [
        "Zm = complex(0.0,0.4)\n",
        "Ym = conjugate(Zm)/(re(Zm)*re(Zm)+im(Zm)*im(Zm))\n",
        "Ym = -re(Ym)+im(Ym)*I\n",
        "# Aplica en la barra 2\n",
        "Ym"
      ],
      "execution_count": 23,
      "outputs": [
        {
          "output_type": "execute_result",
          "data": {
            "text/latex": "$\\displaystyle - 2.5 i$",
            "text/plain": [
              "-2.5*I"
            ]
          },
          "metadata": {
            "tags": []
          },
          "execution_count": 23
        }
      ]
    },
    {
      "cell_type": "code",
      "metadata": {
        "colab": {
          "base_uri": "https://localhost:8080/",
          "height": 37
        },
        "id": "Rz1YR6NY-pYa",
        "outputId": "ec909722-849f-4f4d-c337-30545bb86b60"
      },
      "source": [
        "Zc = complex(0.0,-0.2)\n",
        "Yc = conjugate(Zc)/(re(Zc)*re(Zc)+im(Zc)*im(Zc))\n",
        "Yc = -re(Yc)+im(Yc)*I\n",
        "# Aplica en la barra 3\n",
        "Yc"
      ],
      "execution_count": 29,
      "outputs": [
        {
          "output_type": "execute_result",
          "data": {
            "text/latex": "$\\displaystyle 5.0 i$",
            "text/plain": [
              "5.0*I"
            ]
          },
          "metadata": {
            "tags": []
          },
          "execution_count": 29
        }
      ]
    },
    {
      "cell_type": "markdown",
      "metadata": {
        "id": "CihGSYLA12CG"
      },
      "source": [
        "# Obtenemos los elementos de la Diagonal Principal, i = j"
      ]
    },
    {
      "cell_type": "code",
      "metadata": {
        "colab": {
          "base_uri": "https://localhost:8080/",
          "height": 37
        },
        "id": "zBCGZsIweku8",
        "outputId": "fcb0f584-ff60-4eea-9ab6-b64e3c3bf9fd"
      },
      "source": [
        "Y11 = Y12 + Y13 + Y14\n",
        "Y11"
      ],
      "execution_count": 24,
      "outputs": [
        {
          "output_type": "execute_result",
          "data": {
            "text/latex": "$\\displaystyle 0.49286241603345 - 4.78091283171375 i$",
            "text/plain": [
              "0.49286241603345 - 4.78091283171375*I"
            ]
          },
          "metadata": {
            "tags": []
          },
          "execution_count": 24
        }
      ]
    },
    {
      "cell_type": "code",
      "metadata": {
        "colab": {
          "base_uri": "https://localhost:8080/",
          "height": 37
        },
        "id": "nh4pUVnezSer",
        "outputId": "cad44240-1008-4027-e630-4e1cb508aa22"
      },
      "source": [
        "Y22 = Y12 + Y23 + y24 + Ym\n",
        "Y22"
      ],
      "execution_count": 28,
      "outputs": [
        {
          "output_type": "execute_result",
          "data": {
            "text/latex": "$\\displaystyle 0.235307748328294 - 6.65305762143314 i$",
            "text/plain": [
              "0.235307748328294 - 6.65305762143314*I"
            ]
          },
          "metadata": {
            "tags": []
          },
          "execution_count": 28
        }
      ]
    },
    {
      "cell_type": "code",
      "metadata": {
        "colab": {
          "base_uri": "https://localhost:8080/",
          "height": 37
        },
        "id": "YPMVLDbzzaOs",
        "outputId": "2ec08b7f-f162-44c4-ff6c-8094b3c81dd4"
      },
      "source": [
        "Y33 = Y13 + Y23 + Y34+ Yc\n",
        "Y33"
      ],
      "execution_count": 31,
      "outputs": [
        {
          "output_type": "execute_result",
          "data": {
            "text/latex": "$\\displaystyle 0.605538999350155 - 1.01666440858032 i$",
            "text/plain": [
              "0.605538999350155 - 1.01666440858032*I"
            ]
          },
          "metadata": {
            "tags": []
          },
          "execution_count": 31
        }
      ]
    },
    {
      "cell_type": "code",
      "metadata": {
        "colab": {
          "base_uri": "https://localhost:8080/",
          "height": 37
        },
        "id": "svT6OirrzlbX",
        "outputId": "562487d1-fdc0-48a6-f6f7-e4f9625c79b0"
      },
      "source": [
        "Y44 = Y14 + y24 + Y34 \n",
        "Y44"
      ],
      "execution_count": 32,
      "outputs": [
        {
          "output_type": "execute_result",
          "data": {
            "text/latex": "$\\displaystyle 0.285058984974386 - 2.88729418533492 i$",
            "text/plain": [
              "0.285058984974386 - 2.88729418533492*I"
            ]
          },
          "metadata": {
            "tags": []
          },
          "execution_count": 32
        }
      ]
    },
    {
      "cell_type": "markdown",
      "metadata": {
        "id": "7BWWNhbI18eC"
      },
      "source": [
        "# Obtenemos la matriz Y_nxn"
      ]
    },
    {
      "cell_type": "code",
      "metadata": {
        "colab": {
          "base_uri": "https://localhost:8080/",
          "height": 99
        },
        "id": "IEYicfoiJA7P",
        "outputId": "e1e205cf-3469-4e6c-971b-e214936bcef7"
      },
      "source": [
        "# Definimos la matriz Ynxn\n",
        "\n",
        "Y = Matrix([[Y11,y12,y13,y14],[y21,Y22,y23,y24],[y31,y32,Y33,y34],[y41,y42,y34,Y44]])\n",
        "Y"
      ],
      "execution_count": 33,
      "outputs": [
        {
          "output_type": "execute_result",
          "data": {
            "text/latex": "$\\displaystyle \\left[\\begin{matrix}0.49286241603345 - 4.78091283171375 i & -0.110619469026549 - 1.65929203539823 i & -0.289017341040462 - 1.87861271676301 i & -0.0932256059664388 - 1.24300807955252 i\\\\-0.110619469026549 - 1.65929203539823 i & 0.235307748328294 - 6.65305762143314 i & -0.124688279301746 - 2.49376558603491 i & 0\\\\-0.289017341040462 - 1.87861271676301 i & -0.124688279301746 - 2.49376558603491 i & 0.605538999350155 - 1.01666440858032 i & -0.191833379007947 - 1.64428610578241 i\\\\-0.0932256059664388 - 1.24300807955252 i & 0 & -0.191833379007947 - 1.64428610578241 i & 0.285058984974386 - 2.88729418533492 i\\end{matrix}\\right]$",
            "text/plain": [
              "Matrix([\n",
              "[   0.49286241603345 - 4.78091283171375*I, -0.110619469026549 - 1.65929203539823*I, -0.289017341040462 - 1.87861271676301*I, -0.0932256059664388 - 1.24300807955252*I],\n",
              "[ -0.110619469026549 - 1.65929203539823*I,  0.235307748328294 - 6.65305762143314*I, -0.124688279301746 - 2.49376558603491*I,                                        0],\n",
              "[ -0.289017341040462 - 1.87861271676301*I, -0.124688279301746 - 2.49376558603491*I,  0.605538999350155 - 1.01666440858032*I,  -0.191833379007947 - 1.64428610578241*I],\n",
              "[-0.0932256059664388 - 1.24300807955252*I,                                       0, -0.191833379007947 - 1.64428610578241*I,   0.285058984974386 - 2.88729418533492*I]])"
            ]
          },
          "metadata": {
            "tags": []
          },
          "execution_count": 33
        }
      ]
    },
    {
      "cell_type": "markdown",
      "metadata": {
        "id": "XmCBvrR__WvU"
      },
      "source": [
        "# Calculamos la matriz Z haciendo la inversa de I "
      ]
    },
    {
      "cell_type": "code",
      "metadata": {
        "id": "WgUWiisc_PmX"
      },
      "source": [
        ""
      ],
      "execution_count": null,
      "outputs": []
    }
  ]
}