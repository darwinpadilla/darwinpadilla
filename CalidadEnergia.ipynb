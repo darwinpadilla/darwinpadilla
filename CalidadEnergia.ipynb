{
  "nbformat": 4,
  "nbformat_minor": 0,
  "metadata": {
    "colab": {
      "name": "CalidadEnergia.ipynb",
      "provenance": [],
      "authorship_tag": "ABX9TyPchRJBCoCFyoRU7sLVRfeu",
      "include_colab_link": true
    },
    "kernelspec": {
      "name": "python3",
      "display_name": "Python 3"
    },
    "language_info": {
      "name": "python"
    }
  },
  "cells": [
    {
      "cell_type": "markdown",
      "metadata": {
        "id": "view-in-github",
        "colab_type": "text"
      },
      "source": [
        "<a href=\"https://colab.research.google.com/github/darwinpadilla/darwinpadilla/blob/main/CalidadEnergia.ipynb\" target=\"_parent\"><img src=\"https://colab.research.google.com/assets/colab-badge.svg\" alt=\"Open In Colab\"/></a>"
      ]
    },
    {
      "cell_type": "code",
      "metadata": {
        "id": "7pHgV8xVe0Ka"
      },
      "source": [
        "import pandas as pd\n",
        "url = 'https://raw.githubusercontent.com/darwinpadilla/darwinpadilla/main/pst.TXT'\n"
      ],
      "execution_count": 8,
      "outputs": []
    },
    {
      "cell_type": "code",
      "metadata": {
        "id": "Fna4cmdTgxyG"
      },
      "source": [
        "#Lectura del dataset\n",
        "file_name = \"pst.csv\""
      ],
      "execution_count": 9,
      "outputs": []
    }
  ]
}