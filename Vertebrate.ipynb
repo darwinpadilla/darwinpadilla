{
  "nbformat": 4,
  "nbformat_minor": 0,
  "metadata": {
    "colab": {
      "name": "Vertebrate.ipynb",
      "provenance": [],
      "collapsed_sections": [],
      "include_colab_link": true
    },
    "kernelspec": {
      "name": "python3",
      "display_name": "Python 3"
    }
  },
  "cells": [
    {
      "cell_type": "markdown",
      "metadata": {
        "id": "view-in-github",
        "colab_type": "text"
      },
      "source": [
        "<a href=\"https://colab.research.google.com/github/darwinpadilla/darwinpadilla/blob/main/Vertebrate.ipynb\" target=\"_parent\"><img src=\"https://colab.research.google.com/assets/colab-badge.svg\" alt=\"Open In Colab\"/></a>"
      ]
    },
    {
      "cell_type": "markdown",
      "metadata": {
        "id": "tLtNt5PaCutR"
      },
      "source": [
        "# Imports"
      ]
    },
    {
      "cell_type": "code",
      "metadata": {
        "id": "kkfggDk-A32X",
        "colab": {
          "base_uri": "https://localhost:8080/"
        },
        "outputId": "6c72fcad-218a-40c2-a228-9f57a3400fd5"
      },
      "source": [
        "#Instalaciones para graficar los árboles\n",
        "!sudo apt install -y graphviz\n",
        "!pip install graphviz"
      ],
      "execution_count": null,
      "outputs": [
        {
          "output_type": "stream",
          "text": [
            "Reading package lists... Done\n",
            "Building dependency tree       \n",
            "Reading state information... Done\n",
            "graphviz is already the newest version (2.40.1-2).\n",
            "0 upgraded, 0 newly installed, 0 to remove and 39 not upgraded.\n",
            "Requirement already satisfied: graphviz in /usr/local/lib/python3.7/dist-packages (0.10.1)\n"
          ],
          "name": "stdout"
        }
      ]
    },
    {
      "cell_type": "markdown",
      "metadata": {
        "id": "zjInqKz0nH7O"
      },
      "source": [
        "**Algunos hotkeys útiles en Colaboratory:** RD\n",
        "\n",
        "* **control+enter**: correr celda.\n",
        "* **enter**: editar celda (modo edición).\n",
        "* **escape**: salir del modo edición.\n",
        "* **control+s**: guardar notebook.\n",
        "\n",
        "**Fuera del modo edición se pueden utilizar los siguientes hotkeys:**\n",
        "* **control+m+a**: agregar celda arriba.\n",
        "* **control+m+b**: agregar celda abajo.\n",
        "* **control+m+d**: borrar celda.\n",
        "* **control+shift+z**: deshacer borrar celda.\n",
        "* **control+m+y**: establecer celda en modo python (código).\n",
        "* **control+m+m**: establecer celda en modo markdown (texto).\n",
        "* **control+m+o**: mostrar/ocultar resultado.\n",
        "\n",
        "**Cheat sheets de librerías:**\n",
        "\n",
        "* **Jupyter notebook**: Entorno de trabajo [(Cheat sheet)](https://s3.amazonaws.com/assets.datacamp.com/blog_assets/Jupyter_Notebook_Cheat_Sheet.pdf)\n",
        "* **Numpy**: librería de funciones matemáticas de alto nivel para operar con vectores y matrices [(Cheat sheet)](https://s3.amazonaws.com/assets.datacamp.com/blog_assets/Numpy_Python_Cheat_Sheet.pdf)\n",
        "* **Pandas**: librería destinada al análisis de datos, permiten trabajar con datos estructurados de forma muy eficiente [(Cheat sheet)](https://github.com/pandas-dev/pandas/blob/master/doc/cheatsheet/Pandas_Cheat_Sheet.pdf)\n",
        "\n",
        "Los cheatsheets son un resumen de las principales funciones de las librerías\n",
        "\n",
        "Pueden revisar la documentación de cualquier módulo o función agregando un signo de pregunta y ejecutando la celda; por ejemplo:\n",
        "\n",
        "```\n",
        "#Agregar el signo de pregunta y entonces ejecutar la celda\n",
        "pd.read_csv?\n",
        "```\n",
        "\n"
      ]
    },
    {
      "cell_type": "code",
      "metadata": {
        "id": "RCQlD6v1nH7O"
      },
      "source": [
        "import pandas as pd\n",
        "import numpy as np\n",
        "from sklearn.tree import DecisionTreeClassifier\n",
        "\n",
        "pd.set_option(\"display.max_columns\", 50)\n",
        "\n",
        "%matplotlib inline"
      ],
      "execution_count": null,
      "outputs": []
    },
    {
      "cell_type": "code",
      "metadata": {
        "id": "vYONZhC78I3I",
        "colab": {
          "base_uri": "https://localhost:8080/"
        },
        "outputId": "bc080111-66b1-42e7-efb4-8109ccceebd3"
      },
      "source": [
        "#GM\n",
        "print('Hola esto es una prueba1')\n",
        "print('Hola Rolando')"
      ],
      "execution_count": 6,
      "outputs": [
        {
          "output_type": "stream",
          "text": [
            "Hola esto es una prueba1\n",
            "Hola Rolando\n"
          ],
          "name": "stdout"
        }
      ]
    },
    {
      "cell_type": "markdown",
      "metadata": {
        "id": "zVwom3gRnH7R"
      },
      "source": [
        "\\* La linea **%matplotlib inline**, establece el backend de matplotlib para que la salida de los comandos que generen un \"plot\" se muestren debajo de la celda de código que los produjo."
      ]
    },
    {
      "cell_type": "markdown",
      "metadata": {
        "id": "g2TVzqDhGEZb"
      },
      "source": [
        "# Dataset"
      ]
    },
    {
      "cell_type": "markdown",
      "metadata": {
        "id": "uriPMwsQr1pU"
      },
      "source": [
        "Usaremos el vertebrate dataset, el cual se encuentra en:\n",
        "<br/>\n",
        "<br/>\n",
        "Introduction to Data Mining (2006), Pang-Ning Tan, Michael Steinbach and Vipin Kumar\n",
        "<br/>\n",
        "<br/>\n",
        "El dataset mencionado se generará al ejecutar la siguiente celda:"
      ]
    },
    {
      "cell_type": "code",
      "metadata": {
        "id": "XjLpGORWsgrn",
        "cellView": "form",
        "colab": {
          "base_uri": "https://localhost:8080/"
        },
        "outputId": "a3ed4cf5-8345-48de-932b-f72148773cc6"
      },
      "source": [
        "#@title Vertebrate Dataset: vertebrate_train.csv\n",
        "%%writefile vertebrate_train.csv\n",
        "Name,Body Temperature,Skin Cover,Gives Birth,Aquatic Creature,Aerial Creature,Has Legs,Hibernates,Class Label\n",
        "human,warm-blooded,hair,yes,no,no,yes,no,mammal\n",
        "python,cold-blooded,scales,no,no,no,no,yes,reptile\n",
        "salmon,cold-blooded,scales,no,yes,no,no,no,fish\n",
        "whale,warm-blooded,hair,yes,yes,no,no,no,mammal\n",
        "frog,cold-blooded,none,no,semi,no,yes,yes,amphibian\n",
        "komodo dragon,cold-blooded,scales,no,no,no,yes,no,reptile\n",
        "bat,warm-blooded,hair,yes,no,yes,yes,yes,mammal\n",
        "pigeon,warm-blooded,feathers,no,no,yes,yes,no,bird\n",
        "cat,warm-blooded,fur,yes,no,no,yes,no,mammal\n",
        "leopard shark,cold-blooded,scales,yes,yes,no,no,no,fish\n",
        "turtle,cold-blooded,scales,no,semi,no,yes,no,reptile\n",
        "penguin,warm-blooded,feathers,no,semi,no,yes,no,bird\n",
        "porcupine,warm-blooded,quills,yes,no,no,yes,yes,mammal\n",
        "eel,cold-blooded,scales,no,yes,no,no,no,fish\n",
        "salamander,cold-blooded,none,no,semi,no,yes,yes,amphibian"
      ],
      "execution_count": null,
      "outputs": [
        {
          "output_type": "stream",
          "text": [
            "Writing vertebrate_train.csv\n"
          ],
          "name": "stdout"
        }
      ]
    },
    {
      "cell_type": "code",
      "metadata": {
        "id": "4HUL5bsc5tXr",
        "colab": {
          "base_uri": "https://localhost:8080/"
        },
        "outputId": "76d86e89-d62b-4e52-8d2f-9a7b9f348668"
      },
      "source": [
        "%ls"
      ],
      "execution_count": null,
      "outputs": [
        {
          "output_type": "stream",
          "text": [
            "\u001b[0m\u001b[01;34msample_data\u001b[0m/  vertebrate_train.csv\n"
          ],
          "name": "stdout"
        }
      ]
    },
    {
      "cell_type": "markdown",
      "metadata": {
        "id": "N45KEFIB_Yab"
      },
      "source": [
        "# Revisión del dataset"
      ]
    },
    {
      "cell_type": "code",
      "metadata": {
        "id": "RPC0dxKgknC7"
      },
      "source": [
        "#Lectura del dataset\n",
        "file_name = \"vertebrate_train.csv\"\n",
        "\n",
        "#El método \"read_csv\" nos permite leer un excel\n",
        "dataset = pd.read_csv(file_name)"
      ],
      "execution_count": null,
      "outputs": []
    },
    {
      "cell_type": "code",
      "metadata": {
        "id": "End3M1zd510Q",
        "colab": {
          "base_uri": "https://localhost:8080/"
        },
        "outputId": "90ddb614-af97-42a9-ada1-1fede6255bae"
      },
      "source": [
        "#Tamaño del dataset (registros, variables). En la nomenclatura de pandas es (axis 0, axis 1)\n",
        "dataset.shape"
      ],
      "execution_count": null,
      "outputs": [
        {
          "output_type": "execute_result",
          "data": {
            "text/plain": [
              "(15, 9)"
            ]
          },
          "metadata": {
            "tags": []
          },
          "execution_count": 6
        }
      ]
    },
    {
      "cell_type": "code",
      "metadata": {
        "id": "R2JF_73HknC9",
        "colab": {
          "base_uri": "https://localhost:8080/",
          "height": 195
        },
        "outputId": "bea78d4b-247f-4a39-90d9-395af61e8606"
      },
      "source": [
        "#Vemos los primeros registros del dataset\n",
        "dataset.head()"
      ],
      "execution_count": null,
      "outputs": [
        {
          "output_type": "execute_result",
          "data": {
            "text/html": [
              "<div>\n",
              "<style scoped>\n",
              "    .dataframe tbody tr th:only-of-type {\n",
              "        vertical-align: middle;\n",
              "    }\n",
              "\n",
              "    .dataframe tbody tr th {\n",
              "        vertical-align: top;\n",
              "    }\n",
              "\n",
              "    .dataframe thead th {\n",
              "        text-align: right;\n",
              "    }\n",
              "</style>\n",
              "<table border=\"1\" class=\"dataframe\">\n",
              "  <thead>\n",
              "    <tr style=\"text-align: right;\">\n",
              "      <th></th>\n",
              "      <th>Name</th>\n",
              "      <th>Body Temperature</th>\n",
              "      <th>Skin Cover</th>\n",
              "      <th>Gives Birth</th>\n",
              "      <th>Aquatic Creature</th>\n",
              "      <th>Aerial Creature</th>\n",
              "      <th>Has Legs</th>\n",
              "      <th>Hibernates</th>\n",
              "      <th>Class Label</th>\n",
              "    </tr>\n",
              "  </thead>\n",
              "  <tbody>\n",
              "    <tr>\n",
              "      <th>0</th>\n",
              "      <td>human</td>\n",
              "      <td>warm-blooded</td>\n",
              "      <td>hair</td>\n",
              "      <td>yes</td>\n",
              "      <td>no</td>\n",
              "      <td>no</td>\n",
              "      <td>yes</td>\n",
              "      <td>no</td>\n",
              "      <td>mammal</td>\n",
              "    </tr>\n",
              "    <tr>\n",
              "      <th>1</th>\n",
              "      <td>python</td>\n",
              "      <td>cold-blooded</td>\n",
              "      <td>scales</td>\n",
              "      <td>no</td>\n",
              "      <td>no</td>\n",
              "      <td>no</td>\n",
              "      <td>no</td>\n",
              "      <td>yes</td>\n",
              "      <td>reptile</td>\n",
              "    </tr>\n",
              "    <tr>\n",
              "      <th>2</th>\n",
              "      <td>salmon</td>\n",
              "      <td>cold-blooded</td>\n",
              "      <td>scales</td>\n",
              "      <td>no</td>\n",
              "      <td>yes</td>\n",
              "      <td>no</td>\n",
              "      <td>no</td>\n",
              "      <td>no</td>\n",
              "      <td>fish</td>\n",
              "    </tr>\n",
              "    <tr>\n",
              "      <th>3</th>\n",
              "      <td>whale</td>\n",
              "      <td>warm-blooded</td>\n",
              "      <td>hair</td>\n",
              "      <td>yes</td>\n",
              "      <td>yes</td>\n",
              "      <td>no</td>\n",
              "      <td>no</td>\n",
              "      <td>no</td>\n",
              "      <td>mammal</td>\n",
              "    </tr>\n",
              "    <tr>\n",
              "      <th>4</th>\n",
              "      <td>frog</td>\n",
              "      <td>cold-blooded</td>\n",
              "      <td>none</td>\n",
              "      <td>no</td>\n",
              "      <td>semi</td>\n",
              "      <td>no</td>\n",
              "      <td>yes</td>\n",
              "      <td>yes</td>\n",
              "      <td>amphibian</td>\n",
              "    </tr>\n",
              "  </tbody>\n",
              "</table>\n",
              "</div>"
            ],
            "text/plain": [
              "     Name Body Temperature Skin Cover Gives Birth Aquatic Creature  \\\n",
              "0   human     warm-blooded       hair         yes               no   \n",
              "1  python     cold-blooded     scales          no               no   \n",
              "2  salmon     cold-blooded     scales          no              yes   \n",
              "3   whale     warm-blooded       hair         yes              yes   \n",
              "4    frog     cold-blooded       none          no             semi   \n",
              "\n",
              "  Aerial Creature Has Legs Hibernates Class Label  \n",
              "0              no      yes         no      mammal  \n",
              "1              no       no        yes     reptile  \n",
              "2              no       no         no        fish  \n",
              "3              no       no         no      mammal  \n",
              "4              no      yes        yes   amphibian  "
            ]
          },
          "metadata": {
            "tags": []
          },
          "execution_count": 7
        }
      ]
    },
    {
      "cell_type": "markdown",
      "metadata": {
        "id": "zqa6Wojh_bqP"
      },
      "source": [
        "# Pre-procesamiento del dataset"
      ]
    },
    {
      "cell_type": "code",
      "metadata": {
        "id": "vVoGQGxmGgOL"
      },
      "source": [
        "#Separamos la data, en variables independientes (x) y dependientes (y), para poder entrenar un árbol de clasificación\n",
        "x = dataset.drop([\"Name\", \"Class Label\"], axis=1)\n",
        "\n",
        "y = dataset[\"Class Label\"]"
      ],
      "execution_count": null,
      "outputs": []
    },
    {
      "cell_type": "code",
      "metadata": {
        "id": "bibyKqB3G_59",
        "colab": {
          "base_uri": "https://localhost:8080/",
          "height": 195
        },
        "outputId": "a1593b07-4b3c-490f-d17a-5239a777aa31"
      },
      "source": [
        "x.head()"
      ],
      "execution_count": null,
      "outputs": [
        {
          "output_type": "execute_result",
          "data": {
            "text/html": [
              "<div>\n",
              "<style scoped>\n",
              "    .dataframe tbody tr th:only-of-type {\n",
              "        vertical-align: middle;\n",
              "    }\n",
              "\n",
              "    .dataframe tbody tr th {\n",
              "        vertical-align: top;\n",
              "    }\n",
              "\n",
              "    .dataframe thead th {\n",
              "        text-align: right;\n",
              "    }\n",
              "</style>\n",
              "<table border=\"1\" class=\"dataframe\">\n",
              "  <thead>\n",
              "    <tr style=\"text-align: right;\">\n",
              "      <th></th>\n",
              "      <th>Body Temperature</th>\n",
              "      <th>Skin Cover</th>\n",
              "      <th>Gives Birth</th>\n",
              "      <th>Aquatic Creature</th>\n",
              "      <th>Aerial Creature</th>\n",
              "      <th>Has Legs</th>\n",
              "      <th>Hibernates</th>\n",
              "    </tr>\n",
              "  </thead>\n",
              "  <tbody>\n",
              "    <tr>\n",
              "      <th>0</th>\n",
              "      <td>warm-blooded</td>\n",
              "      <td>hair</td>\n",
              "      <td>yes</td>\n",
              "      <td>no</td>\n",
              "      <td>no</td>\n",
              "      <td>yes</td>\n",
              "      <td>no</td>\n",
              "    </tr>\n",
              "    <tr>\n",
              "      <th>1</th>\n",
              "      <td>cold-blooded</td>\n",
              "      <td>scales</td>\n",
              "      <td>no</td>\n",
              "      <td>no</td>\n",
              "      <td>no</td>\n",
              "      <td>no</td>\n",
              "      <td>yes</td>\n",
              "    </tr>\n",
              "    <tr>\n",
              "      <th>2</th>\n",
              "      <td>cold-blooded</td>\n",
              "      <td>scales</td>\n",
              "      <td>no</td>\n",
              "      <td>yes</td>\n",
              "      <td>no</td>\n",
              "      <td>no</td>\n",
              "      <td>no</td>\n",
              "    </tr>\n",
              "    <tr>\n",
              "      <th>3</th>\n",
              "      <td>warm-blooded</td>\n",
              "      <td>hair</td>\n",
              "      <td>yes</td>\n",
              "      <td>yes</td>\n",
              "      <td>no</td>\n",
              "      <td>no</td>\n",
              "      <td>no</td>\n",
              "    </tr>\n",
              "    <tr>\n",
              "      <th>4</th>\n",
              "      <td>cold-blooded</td>\n",
              "      <td>none</td>\n",
              "      <td>no</td>\n",
              "      <td>semi</td>\n",
              "      <td>no</td>\n",
              "      <td>yes</td>\n",
              "      <td>yes</td>\n",
              "    </tr>\n",
              "  </tbody>\n",
              "</table>\n",
              "</div>"
            ],
            "text/plain": [
              "  Body Temperature Skin Cover Gives Birth Aquatic Creature Aerial Creature  \\\n",
              "0     warm-blooded       hair         yes               no              no   \n",
              "1     cold-blooded     scales          no               no              no   \n",
              "2     cold-blooded     scales          no              yes              no   \n",
              "3     warm-blooded       hair         yes              yes              no   \n",
              "4     cold-blooded       none          no             semi              no   \n",
              "\n",
              "  Has Legs Hibernates  \n",
              "0      yes         no  \n",
              "1       no        yes  \n",
              "2       no         no  \n",
              "3       no         no  \n",
              "4      yes        yes  "
            ]
          },
          "metadata": {
            "tags": []
          },
          "execution_count": 9
        }
      ]
    },
    {
      "cell_type": "code",
      "metadata": {
        "id": "hG1cQa-yIMCp",
        "colab": {
          "base_uri": "https://localhost:8080/"
        },
        "outputId": "9a71e43a-282b-4f7a-8f5d-747da402df88"
      },
      "source": [
        "y.head()"
      ],
      "execution_count": null,
      "outputs": [
        {
          "output_type": "execute_result",
          "data": {
            "text/plain": [
              "0       mammal\n",
              "1      reptile\n",
              "2         fish\n",
              "3       mammal\n",
              "4    amphibian\n",
              "Name: Class Label, dtype: object"
            ]
          },
          "metadata": {
            "tags": []
          },
          "execution_count": 10
        }
      ]
    },
    {
      "cell_type": "code",
      "metadata": {
        "id": "aCaK6aFmHBZk",
        "colab": {
          "base_uri": "https://localhost:8080/",
          "height": 288
        },
        "outputId": "1dceed31-bbd3-4021-b265-97b3453c55fd"
      },
      "source": [
        "#Mostramos la matriz transpuesta para visualizar las variables como registros y los registros como variables\n",
        "x.T"
      ],
      "execution_count": null,
      "outputs": [
        {
          "output_type": "execute_result",
          "data": {
            "text/html": [
              "<div>\n",
              "<style scoped>\n",
              "    .dataframe tbody tr th:only-of-type {\n",
              "        vertical-align: middle;\n",
              "    }\n",
              "\n",
              "    .dataframe tbody tr th {\n",
              "        vertical-align: top;\n",
              "    }\n",
              "\n",
              "    .dataframe thead th {\n",
              "        text-align: right;\n",
              "    }\n",
              "</style>\n",
              "<table border=\"1\" class=\"dataframe\">\n",
              "  <thead>\n",
              "    <tr style=\"text-align: right;\">\n",
              "      <th></th>\n",
              "      <th>0</th>\n",
              "      <th>1</th>\n",
              "      <th>2</th>\n",
              "      <th>3</th>\n",
              "      <th>4</th>\n",
              "      <th>5</th>\n",
              "      <th>6</th>\n",
              "      <th>7</th>\n",
              "      <th>8</th>\n",
              "      <th>9</th>\n",
              "      <th>10</th>\n",
              "      <th>11</th>\n",
              "      <th>12</th>\n",
              "      <th>13</th>\n",
              "      <th>14</th>\n",
              "    </tr>\n",
              "  </thead>\n",
              "  <tbody>\n",
              "    <tr>\n",
              "      <th>Body Temperature</th>\n",
              "      <td>warm-blooded</td>\n",
              "      <td>cold-blooded</td>\n",
              "      <td>cold-blooded</td>\n",
              "      <td>warm-blooded</td>\n",
              "      <td>cold-blooded</td>\n",
              "      <td>cold-blooded</td>\n",
              "      <td>warm-blooded</td>\n",
              "      <td>warm-blooded</td>\n",
              "      <td>warm-blooded</td>\n",
              "      <td>cold-blooded</td>\n",
              "      <td>cold-blooded</td>\n",
              "      <td>warm-blooded</td>\n",
              "      <td>warm-blooded</td>\n",
              "      <td>cold-blooded</td>\n",
              "      <td>cold-blooded</td>\n",
              "    </tr>\n",
              "    <tr>\n",
              "      <th>Skin Cover</th>\n",
              "      <td>hair</td>\n",
              "      <td>scales</td>\n",
              "      <td>scales</td>\n",
              "      <td>hair</td>\n",
              "      <td>none</td>\n",
              "      <td>scales</td>\n",
              "      <td>hair</td>\n",
              "      <td>feathers</td>\n",
              "      <td>fur</td>\n",
              "      <td>scales</td>\n",
              "      <td>scales</td>\n",
              "      <td>feathers</td>\n",
              "      <td>quills</td>\n",
              "      <td>scales</td>\n",
              "      <td>none</td>\n",
              "    </tr>\n",
              "    <tr>\n",
              "      <th>Gives Birth</th>\n",
              "      <td>yes</td>\n",
              "      <td>no</td>\n",
              "      <td>no</td>\n",
              "      <td>yes</td>\n",
              "      <td>no</td>\n",
              "      <td>no</td>\n",
              "      <td>yes</td>\n",
              "      <td>no</td>\n",
              "      <td>yes</td>\n",
              "      <td>yes</td>\n",
              "      <td>no</td>\n",
              "      <td>no</td>\n",
              "      <td>yes</td>\n",
              "      <td>no</td>\n",
              "      <td>no</td>\n",
              "    </tr>\n",
              "    <tr>\n",
              "      <th>Aquatic Creature</th>\n",
              "      <td>no</td>\n",
              "      <td>no</td>\n",
              "      <td>yes</td>\n",
              "      <td>yes</td>\n",
              "      <td>semi</td>\n",
              "      <td>no</td>\n",
              "      <td>no</td>\n",
              "      <td>no</td>\n",
              "      <td>no</td>\n",
              "      <td>yes</td>\n",
              "      <td>semi</td>\n",
              "      <td>semi</td>\n",
              "      <td>no</td>\n",
              "      <td>yes</td>\n",
              "      <td>semi</td>\n",
              "    </tr>\n",
              "    <tr>\n",
              "      <th>Aerial Creature</th>\n",
              "      <td>no</td>\n",
              "      <td>no</td>\n",
              "      <td>no</td>\n",
              "      <td>no</td>\n",
              "      <td>no</td>\n",
              "      <td>no</td>\n",
              "      <td>yes</td>\n",
              "      <td>yes</td>\n",
              "      <td>no</td>\n",
              "      <td>no</td>\n",
              "      <td>no</td>\n",
              "      <td>no</td>\n",
              "      <td>no</td>\n",
              "      <td>no</td>\n",
              "      <td>no</td>\n",
              "    </tr>\n",
              "    <tr>\n",
              "      <th>Has Legs</th>\n",
              "      <td>yes</td>\n",
              "      <td>no</td>\n",
              "      <td>no</td>\n",
              "      <td>no</td>\n",
              "      <td>yes</td>\n",
              "      <td>yes</td>\n",
              "      <td>yes</td>\n",
              "      <td>yes</td>\n",
              "      <td>yes</td>\n",
              "      <td>no</td>\n",
              "      <td>yes</td>\n",
              "      <td>yes</td>\n",
              "      <td>yes</td>\n",
              "      <td>no</td>\n",
              "      <td>yes</td>\n",
              "    </tr>\n",
              "    <tr>\n",
              "      <th>Hibernates</th>\n",
              "      <td>no</td>\n",
              "      <td>yes</td>\n",
              "      <td>no</td>\n",
              "      <td>no</td>\n",
              "      <td>yes</td>\n",
              "      <td>no</td>\n",
              "      <td>yes</td>\n",
              "      <td>no</td>\n",
              "      <td>no</td>\n",
              "      <td>no</td>\n",
              "      <td>no</td>\n",
              "      <td>no</td>\n",
              "      <td>yes</td>\n",
              "      <td>no</td>\n",
              "      <td>yes</td>\n",
              "    </tr>\n",
              "  </tbody>\n",
              "</table>\n",
              "</div>"
            ],
            "text/plain": [
              "                            0             1             2             3   \\\n",
              "Body Temperature  warm-blooded  cold-blooded  cold-blooded  warm-blooded   \n",
              "Skin Cover                hair        scales        scales          hair   \n",
              "Gives Birth                yes            no            no           yes   \n",
              "Aquatic Creature            no            no           yes           yes   \n",
              "Aerial Creature             no            no            no            no   \n",
              "Has Legs                   yes            no            no            no   \n",
              "Hibernates                  no           yes            no            no   \n",
              "\n",
              "                            4             5             6             7   \\\n",
              "Body Temperature  cold-blooded  cold-blooded  warm-blooded  warm-blooded   \n",
              "Skin Cover                none        scales          hair      feathers   \n",
              "Gives Birth                 no            no           yes            no   \n",
              "Aquatic Creature          semi            no            no            no   \n",
              "Aerial Creature             no            no           yes           yes   \n",
              "Has Legs                   yes           yes           yes           yes   \n",
              "Hibernates                 yes            no           yes            no   \n",
              "\n",
              "                            8             9             10            11  \\\n",
              "Body Temperature  warm-blooded  cold-blooded  cold-blooded  warm-blooded   \n",
              "Skin Cover                 fur        scales        scales      feathers   \n",
              "Gives Birth                yes           yes            no            no   \n",
              "Aquatic Creature            no           yes          semi          semi   \n",
              "Aerial Creature             no            no            no            no   \n",
              "Has Legs                   yes            no           yes           yes   \n",
              "Hibernates                  no            no            no            no   \n",
              "\n",
              "                            12            13            14  \n",
              "Body Temperature  warm-blooded  cold-blooded  cold-blooded  \n",
              "Skin Cover              quills        scales          none  \n",
              "Gives Birth                yes            no            no  \n",
              "Aquatic Creature            no           yes          semi  \n",
              "Aerial Creature             no            no            no  \n",
              "Has Legs                   yes            no           yes  \n",
              "Hibernates                 yes            no           yes  "
            ]
          },
          "metadata": {
            "tags": []
          },
          "execution_count": 11
        }
      ]
    },
    {
      "cell_type": "code",
      "metadata": {
        "scrolled": false,
        "id": "mGAamsNbHYwP"
      },
      "source": [
        "#Transformamos los datos numéricos\n",
        "x = pd.get_dummies(x)"
      ],
      "execution_count": null,
      "outputs": []
    },
    {
      "cell_type": "code",
      "metadata": {
        "id": "FcQlAGpwHgR8",
        "colab": {
          "base_uri": "https://localhost:8080/",
          "height": 249
        },
        "outputId": "9afddc31-6389-406e-8271-54de112afb07"
      },
      "source": [
        "x.head()"
      ],
      "execution_count": null,
      "outputs": [
        {
          "output_type": "execute_result",
          "data": {
            "text/html": [
              "<div>\n",
              "<style scoped>\n",
              "    .dataframe tbody tr th:only-of-type {\n",
              "        vertical-align: middle;\n",
              "    }\n",
              "\n",
              "    .dataframe tbody tr th {\n",
              "        vertical-align: top;\n",
              "    }\n",
              "\n",
              "    .dataframe thead th {\n",
              "        text-align: right;\n",
              "    }\n",
              "</style>\n",
              "<table border=\"1\" class=\"dataframe\">\n",
              "  <thead>\n",
              "    <tr style=\"text-align: right;\">\n",
              "      <th></th>\n",
              "      <th>Body Temperature_cold-blooded</th>\n",
              "      <th>Body Temperature_warm-blooded</th>\n",
              "      <th>Skin Cover_feathers</th>\n",
              "      <th>Skin Cover_fur</th>\n",
              "      <th>Skin Cover_hair</th>\n",
              "      <th>Skin Cover_none</th>\n",
              "      <th>Skin Cover_quills</th>\n",
              "      <th>Skin Cover_scales</th>\n",
              "      <th>Gives Birth_no</th>\n",
              "      <th>Gives Birth_yes</th>\n",
              "      <th>Aquatic Creature_no</th>\n",
              "      <th>Aquatic Creature_semi</th>\n",
              "      <th>Aquatic Creature_yes</th>\n",
              "      <th>Aerial Creature_no</th>\n",
              "      <th>Aerial Creature_yes</th>\n",
              "      <th>Has Legs_no</th>\n",
              "      <th>Has Legs_yes</th>\n",
              "      <th>Hibernates_no</th>\n",
              "      <th>Hibernates_yes</th>\n",
              "    </tr>\n",
              "  </thead>\n",
              "  <tbody>\n",
              "    <tr>\n",
              "      <th>0</th>\n",
              "      <td>0</td>\n",
              "      <td>1</td>\n",
              "      <td>0</td>\n",
              "      <td>0</td>\n",
              "      <td>1</td>\n",
              "      <td>0</td>\n",
              "      <td>0</td>\n",
              "      <td>0</td>\n",
              "      <td>0</td>\n",
              "      <td>1</td>\n",
              "      <td>1</td>\n",
              "      <td>0</td>\n",
              "      <td>0</td>\n",
              "      <td>1</td>\n",
              "      <td>0</td>\n",
              "      <td>0</td>\n",
              "      <td>1</td>\n",
              "      <td>1</td>\n",
              "      <td>0</td>\n",
              "    </tr>\n",
              "    <tr>\n",
              "      <th>1</th>\n",
              "      <td>1</td>\n",
              "      <td>0</td>\n",
              "      <td>0</td>\n",
              "      <td>0</td>\n",
              "      <td>0</td>\n",
              "      <td>0</td>\n",
              "      <td>0</td>\n",
              "      <td>1</td>\n",
              "      <td>1</td>\n",
              "      <td>0</td>\n",
              "      <td>1</td>\n",
              "      <td>0</td>\n",
              "      <td>0</td>\n",
              "      <td>1</td>\n",
              "      <td>0</td>\n",
              "      <td>1</td>\n",
              "      <td>0</td>\n",
              "      <td>0</td>\n",
              "      <td>1</td>\n",
              "    </tr>\n",
              "    <tr>\n",
              "      <th>2</th>\n",
              "      <td>1</td>\n",
              "      <td>0</td>\n",
              "      <td>0</td>\n",
              "      <td>0</td>\n",
              "      <td>0</td>\n",
              "      <td>0</td>\n",
              "      <td>0</td>\n",
              "      <td>1</td>\n",
              "      <td>1</td>\n",
              "      <td>0</td>\n",
              "      <td>0</td>\n",
              "      <td>0</td>\n",
              "      <td>1</td>\n",
              "      <td>1</td>\n",
              "      <td>0</td>\n",
              "      <td>1</td>\n",
              "      <td>0</td>\n",
              "      <td>1</td>\n",
              "      <td>0</td>\n",
              "    </tr>\n",
              "    <tr>\n",
              "      <th>3</th>\n",
              "      <td>0</td>\n",
              "      <td>1</td>\n",
              "      <td>0</td>\n",
              "      <td>0</td>\n",
              "      <td>1</td>\n",
              "      <td>0</td>\n",
              "      <td>0</td>\n",
              "      <td>0</td>\n",
              "      <td>0</td>\n",
              "      <td>1</td>\n",
              "      <td>0</td>\n",
              "      <td>0</td>\n",
              "      <td>1</td>\n",
              "      <td>1</td>\n",
              "      <td>0</td>\n",
              "      <td>1</td>\n",
              "      <td>0</td>\n",
              "      <td>1</td>\n",
              "      <td>0</td>\n",
              "    </tr>\n",
              "    <tr>\n",
              "      <th>4</th>\n",
              "      <td>1</td>\n",
              "      <td>0</td>\n",
              "      <td>0</td>\n",
              "      <td>0</td>\n",
              "      <td>0</td>\n",
              "      <td>1</td>\n",
              "      <td>0</td>\n",
              "      <td>0</td>\n",
              "      <td>1</td>\n",
              "      <td>0</td>\n",
              "      <td>0</td>\n",
              "      <td>1</td>\n",
              "      <td>0</td>\n",
              "      <td>1</td>\n",
              "      <td>0</td>\n",
              "      <td>0</td>\n",
              "      <td>1</td>\n",
              "      <td>0</td>\n",
              "      <td>1</td>\n",
              "    </tr>\n",
              "  </tbody>\n",
              "</table>\n",
              "</div>"
            ],
            "text/plain": [
              "   Body Temperature_cold-blooded  Body Temperature_warm-blooded  \\\n",
              "0                              0                              1   \n",
              "1                              1                              0   \n",
              "2                              1                              0   \n",
              "3                              0                              1   \n",
              "4                              1                              0   \n",
              "\n",
              "   Skin Cover_feathers  Skin Cover_fur  Skin Cover_hair  Skin Cover_none  \\\n",
              "0                    0               0                1                0   \n",
              "1                    0               0                0                0   \n",
              "2                    0               0                0                0   \n",
              "3                    0               0                1                0   \n",
              "4                    0               0                0                1   \n",
              "\n",
              "   Skin Cover_quills  Skin Cover_scales  Gives Birth_no  Gives Birth_yes  \\\n",
              "0                  0                  0               0                1   \n",
              "1                  0                  1               1                0   \n",
              "2                  0                  1               1                0   \n",
              "3                  0                  0               0                1   \n",
              "4                  0                  0               1                0   \n",
              "\n",
              "   Aquatic Creature_no  Aquatic Creature_semi  Aquatic Creature_yes  \\\n",
              "0                    1                      0                     0   \n",
              "1                    1                      0                     0   \n",
              "2                    0                      0                     1   \n",
              "3                    0                      0                     1   \n",
              "4                    0                      1                     0   \n",
              "\n",
              "   Aerial Creature_no  Aerial Creature_yes  Has Legs_no  Has Legs_yes  \\\n",
              "0                   1                    0            0             1   \n",
              "1                   1                    0            1             0   \n",
              "2                   1                    0            1             0   \n",
              "3                   1                    0            1             0   \n",
              "4                   1                    0            0             1   \n",
              "\n",
              "   Hibernates_no  Hibernates_yes  \n",
              "0              1               0  \n",
              "1              0               1  \n",
              "2              1               0  \n",
              "3              1               0  \n",
              "4              0               1  "
            ]
          },
          "metadata": {
            "tags": []
          },
          "execution_count": 13
        }
      ]
    },
    {
      "cell_type": "code",
      "metadata": {
        "id": "RQ621BrTIGAV",
        "colab": {
          "base_uri": "https://localhost:8080/"
        },
        "outputId": "3fcb282d-8d2e-49ad-951e-f65810a319a5"
      },
      "source": [
        "y.head()"
      ],
      "execution_count": null,
      "outputs": [
        {
          "output_type": "execute_result",
          "data": {
            "text/plain": [
              "0       mammal\n",
              "1      reptile\n",
              "2         fish\n",
              "3       mammal\n",
              "4    amphibian\n",
              "Name: Class Label, dtype: object"
            ]
          },
          "metadata": {
            "tags": []
          },
          "execution_count": 14
        }
      ]
    },
    {
      "cell_type": "code",
      "metadata": {
        "id": "FFNXk2hFHkZJ",
        "colab": {
          "base_uri": "https://localhost:8080/",
          "height": 610
        },
        "outputId": "0b98f24d-09bb-4a89-cc21-d21af6b8db00"
      },
      "source": [
        "#Mostramos la matriz transpuesta para visualizar las variables como registros y los registros como variables\n",
        "x.T"
      ],
      "execution_count": null,
      "outputs": [
        {
          "output_type": "execute_result",
          "data": {
            "text/html": [
              "<div>\n",
              "<style scoped>\n",
              "    .dataframe tbody tr th:only-of-type {\n",
              "        vertical-align: middle;\n",
              "    }\n",
              "\n",
              "    .dataframe tbody tr th {\n",
              "        vertical-align: top;\n",
              "    }\n",
              "\n",
              "    .dataframe thead th {\n",
              "        text-align: right;\n",
              "    }\n",
              "</style>\n",
              "<table border=\"1\" class=\"dataframe\">\n",
              "  <thead>\n",
              "    <tr style=\"text-align: right;\">\n",
              "      <th></th>\n",
              "      <th>0</th>\n",
              "      <th>1</th>\n",
              "      <th>2</th>\n",
              "      <th>3</th>\n",
              "      <th>4</th>\n",
              "      <th>5</th>\n",
              "      <th>6</th>\n",
              "      <th>7</th>\n",
              "      <th>8</th>\n",
              "      <th>9</th>\n",
              "      <th>10</th>\n",
              "      <th>11</th>\n",
              "      <th>12</th>\n",
              "      <th>13</th>\n",
              "      <th>14</th>\n",
              "    </tr>\n",
              "  </thead>\n",
              "  <tbody>\n",
              "    <tr>\n",
              "      <th>Body Temperature_cold-blooded</th>\n",
              "      <td>0</td>\n",
              "      <td>1</td>\n",
              "      <td>1</td>\n",
              "      <td>0</td>\n",
              "      <td>1</td>\n",
              "      <td>1</td>\n",
              "      <td>0</td>\n",
              "      <td>0</td>\n",
              "      <td>0</td>\n",
              "      <td>1</td>\n",
              "      <td>1</td>\n",
              "      <td>0</td>\n",
              "      <td>0</td>\n",
              "      <td>1</td>\n",
              "      <td>1</td>\n",
              "    </tr>\n",
              "    <tr>\n",
              "      <th>Body Temperature_warm-blooded</th>\n",
              "      <td>1</td>\n",
              "      <td>0</td>\n",
              "      <td>0</td>\n",
              "      <td>1</td>\n",
              "      <td>0</td>\n",
              "      <td>0</td>\n",
              "      <td>1</td>\n",
              "      <td>1</td>\n",
              "      <td>1</td>\n",
              "      <td>0</td>\n",
              "      <td>0</td>\n",
              "      <td>1</td>\n",
              "      <td>1</td>\n",
              "      <td>0</td>\n",
              "      <td>0</td>\n",
              "    </tr>\n",
              "    <tr>\n",
              "      <th>Skin Cover_feathers</th>\n",
              "      <td>0</td>\n",
              "      <td>0</td>\n",
              "      <td>0</td>\n",
              "      <td>0</td>\n",
              "      <td>0</td>\n",
              "      <td>0</td>\n",
              "      <td>0</td>\n",
              "      <td>1</td>\n",
              "      <td>0</td>\n",
              "      <td>0</td>\n",
              "      <td>0</td>\n",
              "      <td>1</td>\n",
              "      <td>0</td>\n",
              "      <td>0</td>\n",
              "      <td>0</td>\n",
              "    </tr>\n",
              "    <tr>\n",
              "      <th>Skin Cover_fur</th>\n",
              "      <td>0</td>\n",
              "      <td>0</td>\n",
              "      <td>0</td>\n",
              "      <td>0</td>\n",
              "      <td>0</td>\n",
              "      <td>0</td>\n",
              "      <td>0</td>\n",
              "      <td>0</td>\n",
              "      <td>1</td>\n",
              "      <td>0</td>\n",
              "      <td>0</td>\n",
              "      <td>0</td>\n",
              "      <td>0</td>\n",
              "      <td>0</td>\n",
              "      <td>0</td>\n",
              "    </tr>\n",
              "    <tr>\n",
              "      <th>Skin Cover_hair</th>\n",
              "      <td>1</td>\n",
              "      <td>0</td>\n",
              "      <td>0</td>\n",
              "      <td>1</td>\n",
              "      <td>0</td>\n",
              "      <td>0</td>\n",
              "      <td>1</td>\n",
              "      <td>0</td>\n",
              "      <td>0</td>\n",
              "      <td>0</td>\n",
              "      <td>0</td>\n",
              "      <td>0</td>\n",
              "      <td>0</td>\n",
              "      <td>0</td>\n",
              "      <td>0</td>\n",
              "    </tr>\n",
              "    <tr>\n",
              "      <th>Skin Cover_none</th>\n",
              "      <td>0</td>\n",
              "      <td>0</td>\n",
              "      <td>0</td>\n",
              "      <td>0</td>\n",
              "      <td>1</td>\n",
              "      <td>0</td>\n",
              "      <td>0</td>\n",
              "      <td>0</td>\n",
              "      <td>0</td>\n",
              "      <td>0</td>\n",
              "      <td>0</td>\n",
              "      <td>0</td>\n",
              "      <td>0</td>\n",
              "      <td>0</td>\n",
              "      <td>1</td>\n",
              "    </tr>\n",
              "    <tr>\n",
              "      <th>Skin Cover_quills</th>\n",
              "      <td>0</td>\n",
              "      <td>0</td>\n",
              "      <td>0</td>\n",
              "      <td>0</td>\n",
              "      <td>0</td>\n",
              "      <td>0</td>\n",
              "      <td>0</td>\n",
              "      <td>0</td>\n",
              "      <td>0</td>\n",
              "      <td>0</td>\n",
              "      <td>0</td>\n",
              "      <td>0</td>\n",
              "      <td>1</td>\n",
              "      <td>0</td>\n",
              "      <td>0</td>\n",
              "    </tr>\n",
              "    <tr>\n",
              "      <th>Skin Cover_scales</th>\n",
              "      <td>0</td>\n",
              "      <td>1</td>\n",
              "      <td>1</td>\n",
              "      <td>0</td>\n",
              "      <td>0</td>\n",
              "      <td>1</td>\n",
              "      <td>0</td>\n",
              "      <td>0</td>\n",
              "      <td>0</td>\n",
              "      <td>1</td>\n",
              "      <td>1</td>\n",
              "      <td>0</td>\n",
              "      <td>0</td>\n",
              "      <td>1</td>\n",
              "      <td>0</td>\n",
              "    </tr>\n",
              "    <tr>\n",
              "      <th>Gives Birth_no</th>\n",
              "      <td>0</td>\n",
              "      <td>1</td>\n",
              "      <td>1</td>\n",
              "      <td>0</td>\n",
              "      <td>1</td>\n",
              "      <td>1</td>\n",
              "      <td>0</td>\n",
              "      <td>1</td>\n",
              "      <td>0</td>\n",
              "      <td>0</td>\n",
              "      <td>1</td>\n",
              "      <td>1</td>\n",
              "      <td>0</td>\n",
              "      <td>1</td>\n",
              "      <td>1</td>\n",
              "    </tr>\n",
              "    <tr>\n",
              "      <th>Gives Birth_yes</th>\n",
              "      <td>1</td>\n",
              "      <td>0</td>\n",
              "      <td>0</td>\n",
              "      <td>1</td>\n",
              "      <td>0</td>\n",
              "      <td>0</td>\n",
              "      <td>1</td>\n",
              "      <td>0</td>\n",
              "      <td>1</td>\n",
              "      <td>1</td>\n",
              "      <td>0</td>\n",
              "      <td>0</td>\n",
              "      <td>1</td>\n",
              "      <td>0</td>\n",
              "      <td>0</td>\n",
              "    </tr>\n",
              "    <tr>\n",
              "      <th>Aquatic Creature_no</th>\n",
              "      <td>1</td>\n",
              "      <td>1</td>\n",
              "      <td>0</td>\n",
              "      <td>0</td>\n",
              "      <td>0</td>\n",
              "      <td>1</td>\n",
              "      <td>1</td>\n",
              "      <td>1</td>\n",
              "      <td>1</td>\n",
              "      <td>0</td>\n",
              "      <td>0</td>\n",
              "      <td>0</td>\n",
              "      <td>1</td>\n",
              "      <td>0</td>\n",
              "      <td>0</td>\n",
              "    </tr>\n",
              "    <tr>\n",
              "      <th>Aquatic Creature_semi</th>\n",
              "      <td>0</td>\n",
              "      <td>0</td>\n",
              "      <td>0</td>\n",
              "      <td>0</td>\n",
              "      <td>1</td>\n",
              "      <td>0</td>\n",
              "      <td>0</td>\n",
              "      <td>0</td>\n",
              "      <td>0</td>\n",
              "      <td>0</td>\n",
              "      <td>1</td>\n",
              "      <td>1</td>\n",
              "      <td>0</td>\n",
              "      <td>0</td>\n",
              "      <td>1</td>\n",
              "    </tr>\n",
              "    <tr>\n",
              "      <th>Aquatic Creature_yes</th>\n",
              "      <td>0</td>\n",
              "      <td>0</td>\n",
              "      <td>1</td>\n",
              "      <td>1</td>\n",
              "      <td>0</td>\n",
              "      <td>0</td>\n",
              "      <td>0</td>\n",
              "      <td>0</td>\n",
              "      <td>0</td>\n",
              "      <td>1</td>\n",
              "      <td>0</td>\n",
              "      <td>0</td>\n",
              "      <td>0</td>\n",
              "      <td>1</td>\n",
              "      <td>0</td>\n",
              "    </tr>\n",
              "    <tr>\n",
              "      <th>Aerial Creature_no</th>\n",
              "      <td>1</td>\n",
              "      <td>1</td>\n",
              "      <td>1</td>\n",
              "      <td>1</td>\n",
              "      <td>1</td>\n",
              "      <td>1</td>\n",
              "      <td>0</td>\n",
              "      <td>0</td>\n",
              "      <td>1</td>\n",
              "      <td>1</td>\n",
              "      <td>1</td>\n",
              "      <td>1</td>\n",
              "      <td>1</td>\n",
              "      <td>1</td>\n",
              "      <td>1</td>\n",
              "    </tr>\n",
              "    <tr>\n",
              "      <th>Aerial Creature_yes</th>\n",
              "      <td>0</td>\n",
              "      <td>0</td>\n",
              "      <td>0</td>\n",
              "      <td>0</td>\n",
              "      <td>0</td>\n",
              "      <td>0</td>\n",
              "      <td>1</td>\n",
              "      <td>1</td>\n",
              "      <td>0</td>\n",
              "      <td>0</td>\n",
              "      <td>0</td>\n",
              "      <td>0</td>\n",
              "      <td>0</td>\n",
              "      <td>0</td>\n",
              "      <td>0</td>\n",
              "    </tr>\n",
              "    <tr>\n",
              "      <th>Has Legs_no</th>\n",
              "      <td>0</td>\n",
              "      <td>1</td>\n",
              "      <td>1</td>\n",
              "      <td>1</td>\n",
              "      <td>0</td>\n",
              "      <td>0</td>\n",
              "      <td>0</td>\n",
              "      <td>0</td>\n",
              "      <td>0</td>\n",
              "      <td>1</td>\n",
              "      <td>0</td>\n",
              "      <td>0</td>\n",
              "      <td>0</td>\n",
              "      <td>1</td>\n",
              "      <td>0</td>\n",
              "    </tr>\n",
              "    <tr>\n",
              "      <th>Has Legs_yes</th>\n",
              "      <td>1</td>\n",
              "      <td>0</td>\n",
              "      <td>0</td>\n",
              "      <td>0</td>\n",
              "      <td>1</td>\n",
              "      <td>1</td>\n",
              "      <td>1</td>\n",
              "      <td>1</td>\n",
              "      <td>1</td>\n",
              "      <td>0</td>\n",
              "      <td>1</td>\n",
              "      <td>1</td>\n",
              "      <td>1</td>\n",
              "      <td>0</td>\n",
              "      <td>1</td>\n",
              "    </tr>\n",
              "    <tr>\n",
              "      <th>Hibernates_no</th>\n",
              "      <td>1</td>\n",
              "      <td>0</td>\n",
              "      <td>1</td>\n",
              "      <td>1</td>\n",
              "      <td>0</td>\n",
              "      <td>1</td>\n",
              "      <td>0</td>\n",
              "      <td>1</td>\n",
              "      <td>1</td>\n",
              "      <td>1</td>\n",
              "      <td>1</td>\n",
              "      <td>1</td>\n",
              "      <td>0</td>\n",
              "      <td>1</td>\n",
              "      <td>0</td>\n",
              "    </tr>\n",
              "    <tr>\n",
              "      <th>Hibernates_yes</th>\n",
              "      <td>0</td>\n",
              "      <td>1</td>\n",
              "      <td>0</td>\n",
              "      <td>0</td>\n",
              "      <td>1</td>\n",
              "      <td>0</td>\n",
              "      <td>1</td>\n",
              "      <td>0</td>\n",
              "      <td>0</td>\n",
              "      <td>0</td>\n",
              "      <td>0</td>\n",
              "      <td>0</td>\n",
              "      <td>1</td>\n",
              "      <td>0</td>\n",
              "      <td>1</td>\n",
              "    </tr>\n",
              "  </tbody>\n",
              "</table>\n",
              "</div>"
            ],
            "text/plain": [
              "                               0   1   2   3   4   5   6   7   8   9   10  11  \\\n",
              "Body Temperature_cold-blooded   0   1   1   0   1   1   0   0   0   1   1   0   \n",
              "Body Temperature_warm-blooded   1   0   0   1   0   0   1   1   1   0   0   1   \n",
              "Skin Cover_feathers             0   0   0   0   0   0   0   1   0   0   0   1   \n",
              "Skin Cover_fur                  0   0   0   0   0   0   0   0   1   0   0   0   \n",
              "Skin Cover_hair                 1   0   0   1   0   0   1   0   0   0   0   0   \n",
              "Skin Cover_none                 0   0   0   0   1   0   0   0   0   0   0   0   \n",
              "Skin Cover_quills               0   0   0   0   0   0   0   0   0   0   0   0   \n",
              "Skin Cover_scales               0   1   1   0   0   1   0   0   0   1   1   0   \n",
              "Gives Birth_no                  0   1   1   0   1   1   0   1   0   0   1   1   \n",
              "Gives Birth_yes                 1   0   0   1   0   0   1   0   1   1   0   0   \n",
              "Aquatic Creature_no             1   1   0   0   0   1   1   1   1   0   0   0   \n",
              "Aquatic Creature_semi           0   0   0   0   1   0   0   0   0   0   1   1   \n",
              "Aquatic Creature_yes            0   0   1   1   0   0   0   0   0   1   0   0   \n",
              "Aerial Creature_no              1   1   1   1   1   1   0   0   1   1   1   1   \n",
              "Aerial Creature_yes             0   0   0   0   0   0   1   1   0   0   0   0   \n",
              "Has Legs_no                     0   1   1   1   0   0   0   0   0   1   0   0   \n",
              "Has Legs_yes                    1   0   0   0   1   1   1   1   1   0   1   1   \n",
              "Hibernates_no                   1   0   1   1   0   1   0   1   1   1   1   1   \n",
              "Hibernates_yes                  0   1   0   0   1   0   1   0   0   0   0   0   \n",
              "\n",
              "                               12  13  14  \n",
              "Body Temperature_cold-blooded   0   1   1  \n",
              "Body Temperature_warm-blooded   1   0   0  \n",
              "Skin Cover_feathers             0   0   0  \n",
              "Skin Cover_fur                  0   0   0  \n",
              "Skin Cover_hair                 0   0   0  \n",
              "Skin Cover_none                 0   0   1  \n",
              "Skin Cover_quills               1   0   0  \n",
              "Skin Cover_scales               0   1   0  \n",
              "Gives Birth_no                  0   1   1  \n",
              "Gives Birth_yes                 1   0   0  \n",
              "Aquatic Creature_no             1   0   0  \n",
              "Aquatic Creature_semi           0   0   1  \n",
              "Aquatic Creature_yes            0   1   0  \n",
              "Aerial Creature_no              1   1   1  \n",
              "Aerial Creature_yes             0   0   0  \n",
              "Has Legs_no                     0   1   0  \n",
              "Has Legs_yes                    1   0   1  \n",
              "Hibernates_no                   0   1   0  \n",
              "Hibernates_yes                  1   0   1  "
            ]
          },
          "metadata": {
            "tags": []
          },
          "execution_count": 15
        }
      ]
    },
    {
      "cell_type": "markdown",
      "metadata": {
        "id": "8zqXlIrg_gWP"
      },
      "source": [
        "# Entrenamiento y verificación de un árbol de clasificación"
      ]
    },
    {
      "cell_type": "markdown",
      "metadata": {
        "id": "ak_Id-v4nH7e"
      },
      "source": [
        "La librería [scikit-learn](http://scikit-learn.org) ofrece un conjunto de utilidades y funciones para aplicar los algoritmos más conocidos de  machine learning. En su [documentación](http://scikit-learn.org/stable/documentation.html) se encuentran tutoriales y guías de usuario bien detalladas.\n",
        "\n",
        "Vamos a crear un modelo de árbol de decisión usando la clase **DecisionTreeClassifier**.\n",
        "\n",
        "Luego usando el método **fit** del modelo, vamos a entrenar el árbol."
      ]
    },
    {
      "cell_type": "code",
      "metadata": {
        "id": "7I6XgTb9knDG",
        "colab": {
          "base_uri": "https://localhost:8080/"
        },
        "outputId": "676dcbb9-ee6f-4c1b-f9f1-05a2aea4ff80"
      },
      "source": [
        "#Entrenamos el árbol de clasificación\n",
        "model = DecisionTreeClassifier()\n",
        "\n",
        "model.fit(x, y)"
      ],
      "execution_count": null,
      "outputs": [
        {
          "output_type": "execute_result",
          "data": {
            "text/plain": [
              "DecisionTreeClassifier(ccp_alpha=0.0, class_weight=None, criterion='gini',\n",
              "                       max_depth=None, max_features=None, max_leaf_nodes=None,\n",
              "                       min_impurity_decrease=0.0, min_impurity_split=None,\n",
              "                       min_samples_leaf=1, min_samples_split=2,\n",
              "                       min_weight_fraction_leaf=0.0, presort='deprecated',\n",
              "                       random_state=None, splitter='best')"
            ]
          },
          "metadata": {
            "tags": []
          },
          "execution_count": 16
        }
      ]
    },
    {
      "cell_type": "code",
      "metadata": {
        "id": "C51TC7EIJpGO",
        "colab": {
          "base_uri": "https://localhost:8080/"
        },
        "outputId": "509110c0-6d30-4762-a5f9-ebe8fd88e634"
      },
      "source": [
        "#Podemos verificar las etiquetas que tuvo que predecir nuestro árbol de clasificación\n",
        "print(\"Etiquetas a predecir: {}\".format(set(y)))\n",
        "\n",
        "print(\"Etiquetas predecidas: {}\".format(model.classes_))"
      ],
      "execution_count": null,
      "outputs": [
        {
          "output_type": "stream",
          "text": [
            "Etiquetas a predecir: {'mammal', 'reptile', 'bird', 'amphibian', 'fish'}\n",
            "Etiquetas predecidas: ['amphibian' 'bird' 'fish' 'mammal' 'reptile']\n"
          ],
          "name": "stdout"
        }
      ]
    },
    {
      "cell_type": "code",
      "metadata": {
        "id": "XuHNquX6IhFm",
        "colab": {
          "base_uri": "https://localhost:8080/"
        },
        "outputId": "95308059-8959-40d7-bbd8-1371485ae62b"
      },
      "source": [
        "#Revisamos el \"accuracy\" (exactitud) obtenido\n",
        "model.score(x, y)"
      ],
      "execution_count": null,
      "outputs": [
        {
          "output_type": "execute_result",
          "data": {
            "text/plain": [
              "1.0"
            ]
          },
          "metadata": {
            "tags": []
          },
          "execution_count": 18
        }
      ]
    },
    {
      "cell_type": "markdown",
      "metadata": {
        "id": "52wia5pXJTJy"
      },
      "source": [
        "# Visualización del árbol de clasificación"
      ]
    },
    {
      "cell_type": "code",
      "metadata": {
        "id": "YcUI1-NLW3F3",
        "colab": {
          "base_uri": "https://localhost:8080/",
          "height": 598
        },
        "outputId": "1532a484-f11e-47a3-e2c1-d884a7a4302a"
      },
      "source": [
        "#@title Visualización de todo el árbol\n",
        "from sklearn.tree import export_graphviz\n",
        "from graphviz import Source\n",
        "from IPython.display import SVG\n",
        "\n",
        "classes = [(str(model_class) if isinstance(model_class, np.integer) else model_class) for model_class in model.classes_]\n",
        "\n",
        "graph = Source(export_graphviz(model, feature_names=x.columns, class_names=classes, filled=True))\n",
        "\n",
        "SVG(graph.pipe(format=\"svg\"))"
      ],
      "execution_count": null,
      "outputs": [
        {
          "output_type": "execute_result",
          "data": {
            "text/plain": [
              "<IPython.core.display.SVG object>"
            ],
            "image/svg+xml": "<svg height=\"433pt\" viewBox=\"0.00 0.00 655.00 433.00\" width=\"655pt\" xmlns=\"http://www.w3.org/2000/svg\" xmlns:xlink=\"http://www.w3.org/1999/xlink\">\n<g class=\"graph\" id=\"graph0\" transform=\"scale(1 1) rotate(0) translate(4 429)\">\n<title>Tree</title>\n<polygon fill=\"#ffffff\" points=\"-4,4 -4,-429 651,-429 651,4 -4,4\" stroke=\"transparent\"/>\n<!-- 0 -->\n<g class=\"node\" id=\"node1\">\n<title>0</title>\n<polygon fill=\"#dedefb\" points=\"441.5,-425 190.5,-425 190.5,-342 441.5,-342 441.5,-425\" stroke=\"#000000\"/>\n<text fill=\"#000000\" font-family=\"Times,serif\" font-size=\"14.00\" text-anchor=\"middle\" x=\"316\" y=\"-409.8\">Body Temperature_cold-blooded &lt;= 0.5</text>\n<text fill=\"#000000\" font-family=\"Times,serif\" font-size=\"14.00\" text-anchor=\"middle\" x=\"316\" y=\"-394.8\">gini = 0.773</text>\n<text fill=\"#000000\" font-family=\"Times,serif\" font-size=\"14.00\" text-anchor=\"middle\" x=\"316\" y=\"-379.8\">samples = 15</text>\n<text fill=\"#000000\" font-family=\"Times,serif\" font-size=\"14.00\" text-anchor=\"middle\" x=\"316\" y=\"-364.8\">value = [2, 2, 3, 5, 3]</text>\n<text fill=\"#000000\" font-family=\"Times,serif\" font-size=\"14.00\" text-anchor=\"middle\" x=\"316\" y=\"-349.8\">class = mammal</text>\n</g>\n<!-- 1 -->\n<g class=\"node\" id=\"node2\">\n<title>1</title>\n<polygon fill=\"#8a88ef\" points=\"300,-306 148,-306 148,-223 300,-223 300,-306\" stroke=\"#000000\"/>\n<text fill=\"#000000\" font-family=\"Times,serif\" font-size=\"14.00\" text-anchor=\"middle\" x=\"224\" y=\"-290.8\">Gives Birth_yes &lt;= 0.5</text>\n<text fill=\"#000000\" font-family=\"Times,serif\" font-size=\"14.00\" text-anchor=\"middle\" x=\"224\" y=\"-275.8\">gini = 0.408</text>\n<text fill=\"#000000\" font-family=\"Times,serif\" font-size=\"14.00\" text-anchor=\"middle\" x=\"224\" y=\"-260.8\">samples = 7</text>\n<text fill=\"#000000\" font-family=\"Times,serif\" font-size=\"14.00\" text-anchor=\"middle\" x=\"224\" y=\"-245.8\">value = [0, 2, 0, 5, 0]</text>\n<text fill=\"#000000\" font-family=\"Times,serif\" font-size=\"14.00\" text-anchor=\"middle\" x=\"224\" y=\"-230.8\">class = mammal</text>\n</g>\n<!-- 0&#45;&gt;1 -->\n<g class=\"edge\" id=\"edge1\">\n<title>0-&gt;1</title>\n<path d=\"M283.8229,-341.8796C276.9296,-332.9633 269.5798,-323.4565 262.4761,-314.268\" fill=\"none\" stroke=\"#000000\"/>\n<polygon fill=\"#000000\" points=\"265.1999,-312.0687 256.3145,-306.2981 259.6619,-316.3502 265.1999,-312.0687\" stroke=\"#000000\"/>\n<text fill=\"#000000\" font-family=\"Times,serif\" font-size=\"14.00\" text-anchor=\"middle\" x=\"253.1413\" y=\"-327.3959\">True</text>\n</g>\n<!-- 4 -->\n<g class=\"node\" id=\"node5\">\n<title>4</title>\n<polygon fill=\"#ffffff\" points=\"500,-306 318,-306 318,-223 500,-223 500,-306\" stroke=\"#000000\"/>\n<text fill=\"#000000\" font-family=\"Times,serif\" font-size=\"14.00\" text-anchor=\"middle\" x=\"409\" y=\"-290.8\">Aquatic Creature_yes &lt;= 0.5</text>\n<text fill=\"#000000\" font-family=\"Times,serif\" font-size=\"14.00\" text-anchor=\"middle\" x=\"409\" y=\"-275.8\">gini = 0.656</text>\n<text fill=\"#000000\" font-family=\"Times,serif\" font-size=\"14.00\" text-anchor=\"middle\" x=\"409\" y=\"-260.8\">samples = 8</text>\n<text fill=\"#000000\" font-family=\"Times,serif\" font-size=\"14.00\" text-anchor=\"middle\" x=\"409\" y=\"-245.8\">value = [2, 0, 3, 0, 3]</text>\n<text fill=\"#000000\" font-family=\"Times,serif\" font-size=\"14.00\" text-anchor=\"middle\" x=\"409\" y=\"-230.8\">class = fish</text>\n</g>\n<!-- 0&#45;&gt;4 -->\n<g class=\"edge\" id=\"edge4\">\n<title>0-&gt;4</title>\n<path d=\"M348.5269,-341.8796C355.4951,-332.9633 362.9247,-323.4565 370.1056,-314.268\" fill=\"none\" stroke=\"#000000\"/>\n<polygon fill=\"#000000\" points=\"372.9343,-316.3326 376.3343,-306.2981 367.4188,-312.0221 372.9343,-316.3326\" stroke=\"#000000\"/>\n<text fill=\"#000000\" font-family=\"Times,serif\" font-size=\"14.00\" text-anchor=\"middle\" x=\"379.3775\" y=\"-327.4122\">False</text>\n</g>\n<!-- 2 -->\n<g class=\"node\" id=\"node3\">\n<title>2</title>\n<polygon fill=\"#7be539\" points=\"140,-179.5 0,-179.5 0,-111.5 140,-111.5 140,-179.5\" stroke=\"#000000\"/>\n<text fill=\"#000000\" font-family=\"Times,serif\" font-size=\"14.00\" text-anchor=\"middle\" x=\"70\" y=\"-164.3\">gini = 0.0</text>\n<text fill=\"#000000\" font-family=\"Times,serif\" font-size=\"14.00\" text-anchor=\"middle\" x=\"70\" y=\"-149.3\">samples = 2</text>\n<text fill=\"#000000\" font-family=\"Times,serif\" font-size=\"14.00\" text-anchor=\"middle\" x=\"70\" y=\"-134.3\">value = [0, 2, 0, 0, 0]</text>\n<text fill=\"#000000\" font-family=\"Times,serif\" font-size=\"14.00\" text-anchor=\"middle\" x=\"70\" y=\"-119.3\">class = bird</text>\n</g>\n<!-- 1&#45;&gt;2 -->\n<g class=\"edge\" id=\"edge2\">\n<title>1-&gt;2</title>\n<path d=\"M170.1383,-222.8796C154.7696,-211.0038 138.0453,-198.0804 122.7441,-186.2568\" fill=\"none\" stroke=\"#000000\"/>\n<polygon fill=\"#000000\" points=\"124.4605,-183.1599 114.4076,-179.8149 120.1804,-188.699 124.4605,-183.1599\" stroke=\"#000000\"/>\n</g>\n<!-- 3 -->\n<g class=\"node\" id=\"node4\">\n<title>3</title>\n<polygon fill=\"#3c39e5\" points=\"298,-179.5 158,-179.5 158,-111.5 298,-111.5 298,-179.5\" stroke=\"#000000\"/>\n<text fill=\"#000000\" font-family=\"Times,serif\" font-size=\"14.00\" text-anchor=\"middle\" x=\"228\" y=\"-164.3\">gini = 0.0</text>\n<text fill=\"#000000\" font-family=\"Times,serif\" font-size=\"14.00\" text-anchor=\"middle\" x=\"228\" y=\"-149.3\">samples = 5</text>\n<text fill=\"#000000\" font-family=\"Times,serif\" font-size=\"14.00\" text-anchor=\"middle\" x=\"228\" y=\"-134.3\">value = [0, 0, 0, 5, 0]</text>\n<text fill=\"#000000\" font-family=\"Times,serif\" font-size=\"14.00\" text-anchor=\"middle\" x=\"228\" y=\"-119.3\">class = mammal</text>\n</g>\n<!-- 1&#45;&gt;3 -->\n<g class=\"edge\" id=\"edge3\">\n<title>1-&gt;3</title>\n<path d=\"M225.399,-222.8796C225.7575,-212.2134 226.1445,-200.7021 226.5075,-189.9015\" fill=\"none\" stroke=\"#000000\"/>\n<polygon fill=\"#000000\" points=\"230.0085,-189.9269 226.8466,-179.8149 223.0125,-189.6917 230.0085,-189.9269\" stroke=\"#000000\"/>\n</g>\n<!-- 5 -->\n<g class=\"node\" id=\"node6\">\n<title>5</title>\n<polygon fill=\"#f6bdea\" points=\"488.5,-187 323.5,-187 323.5,-104 488.5,-104 488.5,-187\" stroke=\"#000000\"/>\n<text fill=\"#000000\" font-family=\"Times,serif\" font-size=\"14.00\" text-anchor=\"middle\" x=\"406\" y=\"-171.8\">Skin Cover_scales &lt;= 0.5</text>\n<text fill=\"#000000\" font-family=\"Times,serif\" font-size=\"14.00\" text-anchor=\"middle\" x=\"406\" y=\"-156.8\">gini = 0.48</text>\n<text fill=\"#000000\" font-family=\"Times,serif\" font-size=\"14.00\" text-anchor=\"middle\" x=\"406\" y=\"-141.8\">samples = 5</text>\n<text fill=\"#000000\" font-family=\"Times,serif\" font-size=\"14.00\" text-anchor=\"middle\" x=\"406\" y=\"-126.8\">value = [2, 0, 0, 0, 3]</text>\n<text fill=\"#000000\" font-family=\"Times,serif\" font-size=\"14.00\" text-anchor=\"middle\" x=\"406\" y=\"-111.8\">class = reptile</text>\n</g>\n<!-- 4&#45;&gt;5 -->\n<g class=\"edge\" id=\"edge5\">\n<title>4-&gt;5</title>\n<path d=\"M407.9507,-222.8796C407.7441,-214.6838 407.5249,-205.9891 407.311,-197.5013\" fill=\"none\" stroke=\"#000000\"/>\n<polygon fill=\"#000000\" points=\"410.8047,-197.2067 407.0537,-187.2981 403.807,-197.3831 410.8047,-197.2067\" stroke=\"#000000\"/>\n</g>\n<!-- 8 -->\n<g class=\"node\" id=\"node9\">\n<title>8</title>\n<polygon fill=\"#39e5c5\" points=\"647,-179.5 507,-179.5 507,-111.5 647,-111.5 647,-179.5\" stroke=\"#000000\"/>\n<text fill=\"#000000\" font-family=\"Times,serif\" font-size=\"14.00\" text-anchor=\"middle\" x=\"577\" y=\"-164.3\">gini = 0.0</text>\n<text fill=\"#000000\" font-family=\"Times,serif\" font-size=\"14.00\" text-anchor=\"middle\" x=\"577\" y=\"-149.3\">samples = 3</text>\n<text fill=\"#000000\" font-family=\"Times,serif\" font-size=\"14.00\" text-anchor=\"middle\" x=\"577\" y=\"-134.3\">value = [0, 0, 3, 0, 0]</text>\n<text fill=\"#000000\" font-family=\"Times,serif\" font-size=\"14.00\" text-anchor=\"middle\" x=\"577\" y=\"-119.3\">class = fish</text>\n</g>\n<!-- 4&#45;&gt;8 -->\n<g class=\"edge\" id=\"edge8\">\n<title>4-&gt;8</title>\n<path d=\"M467.7582,-222.8796C484.9158,-210.7263 503.6223,-197.4759 520.6286,-185.4297\" fill=\"none\" stroke=\"#000000\"/>\n<polygon fill=\"#000000\" points=\"522.6891,-188.2593 528.8263,-179.623 518.643,-182.5472 522.6891,-188.2593\" stroke=\"#000000\"/>\n</g>\n<!-- 6 -->\n<g class=\"node\" id=\"node7\">\n<title>6</title>\n<polygon fill=\"#e58139\" points=\"397,-68 257,-68 257,0 397,0 397,-68\" stroke=\"#000000\"/>\n<text fill=\"#000000\" font-family=\"Times,serif\" font-size=\"14.00\" text-anchor=\"middle\" x=\"327\" y=\"-52.8\">gini = 0.0</text>\n<text fill=\"#000000\" font-family=\"Times,serif\" font-size=\"14.00\" text-anchor=\"middle\" x=\"327\" y=\"-37.8\">samples = 2</text>\n<text fill=\"#000000\" font-family=\"Times,serif\" font-size=\"14.00\" text-anchor=\"middle\" x=\"327\" y=\"-22.8\">value = [2, 0, 0, 0, 0]</text>\n<text fill=\"#000000\" font-family=\"Times,serif\" font-size=\"14.00\" text-anchor=\"middle\" x=\"327\" y=\"-7.8\">class = amphibian</text>\n</g>\n<!-- 5&#45;&gt;6 -->\n<g class=\"edge\" id=\"edge6\">\n<title>5-&gt;6</title>\n<path d=\"M376.5833,-103.9815C370.2669,-95.0666 363.5818,-85.6313 357.2349,-76.6734\" fill=\"none\" stroke=\"#000000\"/>\n<polygon fill=\"#000000\" points=\"359.9136,-74.3998 351.2765,-68.2637 354.2019,-78.4466 359.9136,-74.3998\" stroke=\"#000000\"/>\n</g>\n<!-- 7 -->\n<g class=\"node\" id=\"node8\">\n<title>7</title>\n<polygon fill=\"#e539c0\" points=\"555,-68 415,-68 415,0 555,0 555,-68\" stroke=\"#000000\"/>\n<text fill=\"#000000\" font-family=\"Times,serif\" font-size=\"14.00\" text-anchor=\"middle\" x=\"485\" y=\"-52.8\">gini = 0.0</text>\n<text fill=\"#000000\" font-family=\"Times,serif\" font-size=\"14.00\" text-anchor=\"middle\" x=\"485\" y=\"-37.8\">samples = 3</text>\n<text fill=\"#000000\" font-family=\"Times,serif\" font-size=\"14.00\" text-anchor=\"middle\" x=\"485\" y=\"-22.8\">value = [0, 0, 0, 0, 3]</text>\n<text fill=\"#000000\" font-family=\"Times,serif\" font-size=\"14.00\" text-anchor=\"middle\" x=\"485\" y=\"-7.8\">class = reptile</text>\n</g>\n<!-- 5&#45;&gt;7 -->\n<g class=\"edge\" id=\"edge7\">\n<title>5-&gt;7</title>\n<path d=\"M435.4167,-103.9815C441.7331,-95.0666 448.4182,-85.6313 454.7651,-76.6734\" fill=\"none\" stroke=\"#000000\"/>\n<polygon fill=\"#000000\" points=\"457.7981,-78.4466 460.7235,-68.2637 452.0864,-74.3998 457.7981,-78.4466\" stroke=\"#000000\"/>\n</g>\n</g>\n</svg>"
          },
          "metadata": {
            "tags": []
          },
          "execution_count": 19
        }
      ]
    },
    {
      "cell_type": "markdown",
      "metadata": {
        "id": "Iu9_Cg_HKm6h"
      },
      "source": [
        "# Cálculo manual del gini inicial (del primer nodo/regla)"
      ]
    },
    {
      "cell_type": "code",
      "metadata": {
        "id": "ZmZg05JMnH7p",
        "colab": {
          "base_uri": "https://localhost:8080/"
        },
        "outputId": "08e73191-f949-4a60-8f53-17ab72416dba"
      },
      "source": [
        "y.value_counts()"
      ],
      "execution_count": null,
      "outputs": [
        {
          "output_type": "execute_result",
          "data": {
            "text/plain": [
              "mammal       5\n",
              "fish         3\n",
              "reptile      3\n",
              "amphibian    2\n",
              "bird         2\n",
              "Name: Class Label, dtype: int64"
            ]
          },
          "metadata": {
            "tags": []
          },
          "execution_count": 20
        }
      ]
    },
    {
      "cell_type": "code",
      "metadata": {
        "id": "RfKZE31NnH7r",
        "colab": {
          "base_uri": "https://localhost:8080/"
        },
        "outputId": "c90ba887-52b1-48d5-a0d7-1bbfeba41a1a"
      },
      "source": [
        "#El método \"len\" devuelve el tamaño de una estructura de datos; en este caso, el número de elementos en \"y\"\n",
        "len(y)"
      ],
      "execution_count": null,
      "outputs": [
        {
          "output_type": "execute_result",
          "data": {
            "text/plain": [
              "15"
            ]
          },
          "metadata": {
            "tags": []
          },
          "execution_count": 21
        }
      ]
    },
    {
      "cell_type": "markdown",
      "metadata": {
        "id": "osi7cS2VnH7u"
      },
      "source": [
        "$p_i$:"
      ]
    },
    {
      "cell_type": "code",
      "metadata": {
        "id": "wkdefsfdnH7u",
        "colab": {
          "base_uri": "https://localhost:8080/"
        },
        "outputId": "2a8ec722-4d83-48ba-b126-8ce21efe746b"
      },
      "source": [
        "y.value_counts() / len(y)"
      ],
      "execution_count": null,
      "outputs": [
        {
          "output_type": "execute_result",
          "data": {
            "text/plain": [
              "mammal       0.333333\n",
              "fish         0.200000\n",
              "reptile      0.200000\n",
              "amphibian    0.133333\n",
              "bird         0.133333\n",
              "Name: Class Label, dtype: float64"
            ]
          },
          "metadata": {
            "tags": []
          },
          "execution_count": 22
        }
      ]
    },
    {
      "cell_type": "markdown",
      "metadata": {
        "id": "TErvkFMEnH7w"
      },
      "source": [
        "$p_i^2$:"
      ]
    },
    {
      "cell_type": "code",
      "metadata": {
        "id": "FSWgD6ornH7x",
        "colab": {
          "base_uri": "https://localhost:8080/"
        },
        "outputId": "d312a203-e7b8-4408-e2ba-c7590d5e19d6"
      },
      "source": [
        "p_i = y.value_counts() / len(y)\n",
        "\n",
        "p_i ** 2"
      ],
      "execution_count": null,
      "outputs": [
        {
          "output_type": "execute_result",
          "data": {
            "text/plain": [
              "mammal       0.111111\n",
              "fish         0.040000\n",
              "reptile      0.040000\n",
              "amphibian    0.017778\n",
              "bird         0.017778\n",
              "Name: Class Label, dtype: float64"
            ]
          },
          "metadata": {
            "tags": []
          },
          "execution_count": 23
        }
      ]
    },
    {
      "cell_type": "markdown",
      "metadata": {
        "id": "-Hfs9zmCnH7y"
      },
      "source": [
        "$\\sum\\limits_i p_i^2$:"
      ]
    },
    {
      "cell_type": "code",
      "metadata": {
        "id": "A5rrx9bMnH7z",
        "colab": {
          "base_uri": "https://localhost:8080/"
        },
        "outputId": "aaae7ca0-9a65-44a8-efb2-eb9ff83c8ba6"
      },
      "source": [
        "p_i = y.value_counts() / len(y)\n",
        "\n",
        "(p_i ** 2).sum()"
      ],
      "execution_count": null,
      "outputs": [
        {
          "output_type": "execute_result",
          "data": {
            "text/plain": [
              "0.22666666666666668"
            ]
          },
          "metadata": {
            "tags": []
          },
          "execution_count": 24
        }
      ]
    },
    {
      "cell_type": "markdown",
      "metadata": {
        "id": "z5A0UFsWnH71"
      },
      "source": [
        "$I_G (p) = 1 - \\sum\\limits_i p_i^2$:"
      ]
    },
    {
      "cell_type": "code",
      "metadata": {
        "id": "mtd-UYyNnH71",
        "colab": {
          "base_uri": "https://localhost:8080/"
        },
        "outputId": "54e41c22-d39e-46cc-b52a-c101d0549fca"
      },
      "source": [
        "p_i = y.value_counts() / len(y)\n",
        "\n",
        "summation = (p_i ** 2).sum()\n",
        "\n",
        "1 - summation"
      ],
      "execution_count": null,
      "outputs": [
        {
          "output_type": "execute_result",
          "data": {
            "text/plain": [
              "0.7733333333333333"
            ]
          },
          "metadata": {
            "tags": []
          },
          "execution_count": 25
        }
      ]
    },
    {
      "cell_type": "markdown",
      "metadata": {
        "id": "pRIubx65nH73"
      },
      "source": [
        "# Ejercicio"
      ]
    },
    {
      "cell_type": "markdown",
      "metadata": {
        "id": "ch3ySwNSnH73"
      },
      "source": [
        "La primera regla del árbol separa la data en 2 conjuntos (los que cumplen la regla y los que no). Calcular el gini para cada conjunto"
      ]
    },
    {
      "cell_type": "code",
      "metadata": {
        "id": "wMLjBukqnH73",
        "colab": {
          "base_uri": "https://localhost:8080/"
        },
        "outputId": "6823b56a-23d4-4b02-fb3c-e0031341678f"
      },
      "source": [
        "index_of_root = model.tree_.feature[0]\n",
        "\n",
        "root_name = x.columns[index_of_root]\n",
        "\n",
        "mask = x[root_name] <= 0.5\n",
        "\n",
        "mask"
      ],
      "execution_count": null,
      "outputs": [
        {
          "output_type": "execute_result",
          "data": {
            "text/plain": [
              "0      True\n",
              "1     False\n",
              "2     False\n",
              "3      True\n",
              "4     False\n",
              "5     False\n",
              "6      True\n",
              "7      True\n",
              "8      True\n",
              "9     False\n",
              "10    False\n",
              "11     True\n",
              "12     True\n",
              "13    False\n",
              "14    False\n",
              "Name: Body Temperature_cold-blooded, dtype: bool"
            ]
          },
          "metadata": {
            "tags": []
          },
          "execution_count": 26
        }
      ]
    },
    {
      "cell_type": "code",
      "metadata": {
        "id": "gRSBU6b-nH75",
        "colab": {
          "base_uri": "https://localhost:8080/"
        },
        "outputId": "242c4d3a-d7d6-4a26-bf1f-c44f6cbb2c85"
      },
      "source": [
        "data_true = y[mask]\n",
        "\n",
        "data_true"
      ],
      "execution_count": null,
      "outputs": [
        {
          "output_type": "execute_result",
          "data": {
            "text/plain": [
              "0     mammal\n",
              "3     mammal\n",
              "6     mammal\n",
              "7       bird\n",
              "8     mammal\n",
              "11      bird\n",
              "12    mammal\n",
              "Name: Class Label, dtype: object"
            ]
          },
          "metadata": {
            "tags": []
          },
          "execution_count": 27
        }
      ]
    },
    {
      "cell_type": "code",
      "metadata": {
        "id": "zCxPRp5pnH76",
        "colab": {
          "base_uri": "https://localhost:8080/"
        },
        "outputId": "d1ce153d-8130-4439-b8ba-f6082c871f39"
      },
      "source": [
        "data_false = y[~mask]\n",
        "\n",
        "data_false"
      ],
      "execution_count": null,
      "outputs": [
        {
          "output_type": "execute_result",
          "data": {
            "text/plain": [
              "1       reptile\n",
              "2          fish\n",
              "4     amphibian\n",
              "5       reptile\n",
              "9          fish\n",
              "10      reptile\n",
              "13         fish\n",
              "14    amphibian\n",
              "Name: Class Label, dtype: object"
            ]
          },
          "metadata": {
            "tags": []
          },
          "execution_count": 28
        }
      ]
    },
    {
      "cell_type": "code",
      "metadata": {
        "id": "TQ7YadiGHpGd",
        "colab": {
          "base_uri": "https://localhost:8080/"
        },
        "outputId": "bdeb81c8-c20e-4e6e-dba6-fc37d42e189d"
      },
      "source": [
        "#Calcular el gini cuando la primera regla es verdadera (data_true)\n",
        "len(y[mask])\n"
      ],
      "execution_count": null,
      "outputs": [
        {
          "output_type": "execute_result",
          "data": {
            "text/plain": [
              "7"
            ]
          },
          "metadata": {
            "tags": []
          },
          "execution_count": 39
        }
      ]
    },
    {
      "cell_type": "code",
      "metadata": {
        "colab": {
          "base_uri": "https://localhost:8080/"
        },
        "id": "3DNdZEJ3dDgG",
        "outputId": "9027ce17-cc7e-44d9-e0d5-f860ff90eb62"
      },
      "source": [
        "y[mask].value_counts() / len(y[mask])\n"
      ],
      "execution_count": null,
      "outputs": [
        {
          "output_type": "execute_result",
          "data": {
            "text/plain": [
              "mammal    0.714286\n",
              "bird      0.285714\n",
              "Name: Class Label, dtype: float64"
            ]
          },
          "metadata": {
            "tags": []
          },
          "execution_count": 42
        }
      ]
    },
    {
      "cell_type": "code",
      "metadata": {
        "colab": {
          "base_uri": "https://localhost:8080/"
        },
        "id": "CEiwg5P0dFxl",
        "outputId": "bd26643b-694e-419c-93ba-ff9a57a125a5"
      },
      "source": [
        "p_i = y[mask].value_counts() / len(y[mask])\n",
        "p_i ** 2"
      ],
      "execution_count": null,
      "outputs": [
        {
          "output_type": "execute_result",
          "data": {
            "text/plain": [
              "mammal    0.510204\n",
              "bird      0.081633\n",
              "Name: Class Label, dtype: float64"
            ]
          },
          "metadata": {
            "tags": []
          },
          "execution_count": 43
        }
      ]
    },
    {
      "cell_type": "code",
      "metadata": {
        "colab": {
          "base_uri": "https://localhost:8080/"
        },
        "id": "UE4ICE7adfz8",
        "outputId": "aa54f7d6-df9c-4fa7-cf21-1b84d1865ca4"
      },
      "source": [
        "p_i = y[mask].value_counts() / len(y[mask])\n",
        "\n",
        "summation = (p_i ** 2).sum()\n",
        "\n",
        "1 - summation"
      ],
      "execution_count": null,
      "outputs": [
        {
          "output_type": "execute_result",
          "data": {
            "text/plain": [
              "0.40816326530612246"
            ]
          },
          "metadata": {
            "tags": []
          },
          "execution_count": 44
        }
      ]
    },
    {
      "cell_type": "code",
      "metadata": {
        "id": "ZTSaKwz6Hq2r",
        "colab": {
          "base_uri": "https://localhost:8080/"
        },
        "outputId": "a3b9964f-eba6-4f68-f515-aa8461ec075e"
      },
      "source": [
        "#Calcular el gini cuando la primera regla no es verdadera (data_false)\n",
        "len(y[~mask])\n",
        "y[~mask].value_counts() / len(y[~mask])\n"
      ],
      "execution_count": null,
      "outputs": [
        {
          "output_type": "execute_result",
          "data": {
            "text/plain": [
              "fish         0.375\n",
              "reptile      0.375\n",
              "amphibian    0.250\n",
              "Name: Class Label, dtype: float64"
            ]
          },
          "metadata": {
            "tags": []
          },
          "execution_count": 45
        }
      ]
    },
    {
      "cell_type": "code",
      "metadata": {
        "colab": {
          "base_uri": "https://localhost:8080/"
        },
        "id": "y64LfL_WdvLZ",
        "outputId": "7ef1e3b6-efdf-4336-82d6-fb7bf8e2eea5"
      },
      "source": [
        "p_i = y[~mask].value_counts() / len(y[~mask])\n",
        "p_i ** 2"
      ],
      "execution_count": null,
      "outputs": [
        {
          "output_type": "execute_result",
          "data": {
            "text/plain": [
              "fish         0.140625\n",
              "reptile      0.140625\n",
              "amphibian    0.062500\n",
              "Name: Class Label, dtype: float64"
            ]
          },
          "metadata": {
            "tags": []
          },
          "execution_count": 47
        }
      ]
    },
    {
      "cell_type": "code",
      "metadata": {
        "colab": {
          "base_uri": "https://localhost:8080/"
        },
        "id": "3qwMgTUadx9V",
        "outputId": "d3ebaf3f-b9f5-4064-927e-cf3416a1d6bf"
      },
      "source": [
        "p_i = y[~mask].value_counts() / len(y[~mask])\n",
        "\n",
        "summation = (p_i ** 2).sum()\n",
        "\n",
        "1 - summation"
      ],
      "execution_count": null,
      "outputs": [
        {
          "output_type": "execute_result",
          "data": {
            "text/plain": [
              "0.65625"
            ]
          },
          "metadata": {
            "tags": []
          },
          "execution_count": 48
        }
      ]
    }
  ]
}